{
 "cells": [
  {
   "cell_type": "markdown",
   "metadata": {},
   "source": [
    "# Data Science Project in Python- Build a machine learning algorithm that automatically suggests the right product prices."
   ]
  },
  {
   "cell_type": "markdown",
   "metadata": {},
   "source": [
    "## Mercari, Japan’s biggest community-powered shopping app, knows this problem deeply. They’d like to offer pricing suggestions to sellers, but this is tough because their sellers are enabled to put just about anything, or any bundle of things, on Mercari's marketplace.\n",
    "\n",
    "## In this machine learning project, we will build an algorithm that automatically suggests the right product prices. You’ll be provided user-inputted text descriptions of their products, including details like product category name, brand name, and item condition."
   ]
  },
  {
   "cell_type": "code",
   "execution_count": null,
   "metadata": {
    "collapsed": true
   },
   "outputs": [],
   "source": [
    "library(data.table)\n",
    "library(stringr)\n",
    "library(ggplot2)"
   ]
  },
  {
   "cell_type": "code",
   "execution_count": 4,
   "metadata": {
    "collapsed": true
   },
   "outputs": [],
   "source": [
    "test = fread('https://s3.amazonaws.com/hackerday.datascience/109/test.tsv')\n",
    "train = fread('https://s3.amazonaws.com/hackerday.datascience/109/train.tsv')\n"
   ]
  },
  {
   "cell_type": "code",
   "execution_count": 7,
   "metadata": {},
   "outputs": [
    {
     "data": {
      "text/html": [
       "<ol class=list-inline>\n",
       "\t<li>29999</li>\n",
       "\t<li>7</li>\n",
       "</ol>\n"
      ],
      "text/latex": [
       "\\begin{enumerate*}\n",
       "\\item 29999\n",
       "\\item 7\n",
       "\\end{enumerate*}\n"
      ],
      "text/markdown": [
       "1. 29999\n",
       "2. 7\n",
       "\n",
       "\n"
      ],
      "text/plain": [
       "[1] 29999     7"
      ]
     },
     "metadata": {},
     "output_type": "display_data"
    }
   ],
   "source": [
    "dim(test)"
   ]
  },
  {
   "cell_type": "code",
   "execution_count": 8,
   "metadata": {},
   "outputs": [
    {
     "data": {
      "text/html": [
       "<ol class=list-inline>\n",
       "\t<li>29999</li>\n",
       "\t<li>8</li>\n",
       "</ol>\n"
      ],
      "text/latex": [
       "\\begin{enumerate*}\n",
       "\\item 29999\n",
       "\\item 8\n",
       "\\end{enumerate*}\n"
      ],
      "text/markdown": [
       "1. 29999\n",
       "2. 8\n",
       "\n",
       "\n"
      ],
      "text/plain": [
       "[1] 29999     8"
      ]
     },
     "metadata": {},
     "output_type": "display_data"
    }
   ],
   "source": [
    "dim(train)"
   ]
  },
  {
   "cell_type": "code",
   "execution_count": 10,
   "metadata": {
    "collapsed": true
   },
   "outputs": [],
   "source": [
    "#Exploratory Data Analysis\n",
    "# univariate\n",
    "# bivariate"
   ]
  },
  {
   "cell_type": "code",
   "execution_count": 11,
   "metadata": {},
   "outputs": [
    {
     "data": {
      "text/plain": [
       "    train_id         name           item_condition_id category_name     \n",
       " Min.   :    0   Length:29999       Min.   :1.000     Length:29999      \n",
       " 1st Qu.: 7500   Class :character   1st Qu.:1.000     Class :character  \n",
       " Median :14999   Mode  :character   Median :2.000     Mode  :character  \n",
       " Mean   :14999                      Mean   :1.906                       \n",
       " 3rd Qu.:22498                      3rd Qu.:3.000                       \n",
       " Max.   :29998                      Max.   :5.000                       \n",
       "  brand_name            price            shipping      item_description  \n",
       " Length:29999       Min.   :   0.00   Min.   :0.0000   Length:29999      \n",
       " Class :character   1st Qu.:  10.00   1st Qu.:0.0000   Class :character  \n",
       " Mode  :character   Median :  17.00   Median :0.0000   Mode  :character  \n",
       "                    Mean   :  26.95   Mean   :0.4477                     \n",
       "                    3rd Qu.:  29.00   3rd Qu.:1.0000                     \n",
       "                    Max.   :1506.00   Max.   :1.0000                     "
      ]
     },
     "metadata": {},
     "output_type": "display_data"
    }
   ],
   "source": [
    "summary(train)"
   ]
  },
  {
   "cell_type": "code",
   "execution_count": 12,
   "metadata": {
    "scrolled": true
   },
   "outputs": [
    {
     "data": {
      "text/plain": [
       "    test_id          name           item_condition_id category_name     \n",
       " Min.   :    0   Length:29999       Min.   :1.000     Length:29999      \n",
       " 1st Qu.: 7500   Class :character   1st Qu.:1.000     Class :character  \n",
       " Median :14999   Mode  :character   Median :2.000     Mode  :character  \n",
       " Mean   :14999                      Mean   :1.911                       \n",
       " 3rd Qu.:22498                      3rd Qu.:3.000                       \n",
       " Max.   :29998                      Max.   :5.000                       \n",
       "  brand_name           shipping      item_description  \n",
       " Length:29999       Min.   :0.0000   Length:29999      \n",
       " Class :character   1st Qu.:0.0000   Class :character  \n",
       " Mode  :character   Median :0.0000   Mode  :character  \n",
       "                    Mean   :0.4484                     \n",
       "                    3rd Qu.:1.0000                     \n",
       "                    Max.   :1.0000                     "
      ]
     },
     "metadata": {},
     "output_type": "display_data"
    }
   ],
   "source": [
    "summary(test)"
   ]
  },
  {
   "cell_type": "code",
   "execution_count": 15,
   "metadata": {
    "collapsed": true
   },
   "outputs": [],
   "source": [
    "# Guided approach:\n",
    "#1. what is the variation in prices?\n",
    "#2. How good the products are?\n",
    "#3. Comment of the shipping condition, how good the shipping condition is?\n",
    "#4. What are the most expensive brands present?\n",
    "#5. does expensive brands posses higher prices?\n",
    "#6. How many product categories are there?\n",
    "#7. Does the prices vary by product categories?"
   ]
  },
  {
   "cell_type": "code",
   "execution_count": 21,
   "metadata": {
    "collapsed": true
   },
   "outputs": [],
   "source": [
    "# Use hypothesis testing process and answer the questions.\n",
    "x = c(12,12,32,34,43)"
   ]
  },
  {
   "cell_type": "markdown",
   "metadata": {},
   "source": [
    "https://s3.amazonaws.com/hackerday.datascience/109/test.tsv\n",
    "https://s3.amazonaws.com/hackerday.datascience/109/train.tsv"
   ]
  },
  {
   "cell_type": "code",
   "execution_count": 28,
   "metadata": {},
   "outputs": [
    {
     "data": {
      "text/plain": [
       "9708592 bytes"
      ]
     },
     "metadata": {},
     "output_type": "display_data"
    }
   ],
   "source": [
    "object.size(train)"
   ]
  },
  {
   "cell_type": "code",
   "execution_count": 30,
   "metadata": {},
   "outputs": [
    {
     "data": {
      "text/html": [
       "<ol class=list-inline>\n",
       "\t<li>0</li>\n",
       "\t<li>1506</li>\n",
       "</ol>\n"
      ],
      "text/latex": [
       "\\begin{enumerate*}\n",
       "\\item 0\n",
       "\\item 1506\n",
       "\\end{enumerate*}\n"
      ],
      "text/markdown": [
       "1. 0\n",
       "2. 1506\n",
       "\n",
       "\n"
      ],
      "text/plain": [
       "[1]    0 1506"
      ]
     },
     "metadata": {},
     "output_type": "display_data"
    }
   ],
   "source": [
    "range(train$price)"
   ]
  },
  {
   "cell_type": "code",
   "execution_count": 31,
   "metadata": {},
   "outputs": [
    {
     "data": {
      "image/png": "[encoded data removed]",
      "text/plain": [
       "Plot with title “density.default(x = train$price)”"
      ]
     },
     "metadata": {},
     "output_type": "display_data"
    }
   ],
   "source": [
    "plot(density(train$price))"
   ]
  },
  {
   "cell_type": "code",
   "execution_count": 32,
   "metadata": {},
   "outputs": [
    {
     "data": {
      "image/png": "[encoded data removed]",
      "text/plain": [
       "Plot with title “density.default(x = log(train$price))”"
      ]
     },
     "metadata": {},
     "output_type": "display_data"
    }
   ],
   "source": [
    "plot(density(log(train$price)))"
   ]
  },
  {
   "cell_type": "code",
   "execution_count": 36,
   "metadata": {},
   "outputs": [
    {
     "data": {},
     "metadata": {},
     "output_type": "display_data"
    }
   ],
   "source": [
    "library(ggplot2)\n",
    "ggplot(data=train,aes(x=price)) + geom_histogram(fill='red') + labs(title='Histogram of Prices')"
   ]
  },
  {
   "cell_type": "code",
   "execution_count": 37,
   "metadata": {},
   "outputs": [
    {
     "name": "stdout",
     "output_type": "stream",
     "text": [
      "9.3 Mb\n",
      "9 Mb\n"
     ]
    }
   ],
   "source": [
    "print(object.size(train),units='Mb')\n",
    "print(object.size(test),units='Mb')\n",
    "\n",
    "library(ggplot2)\n"
   ]
  },
  {
   "cell_type": "code",
   "execution_count": 38,
   "metadata": {},
   "outputs": [
    {
     "data": {},
     "metadata": {},
     "output_type": "display_data"
    },
    {
     "data": {},
     "metadata": {},
     "output_type": "display_data"
    }
   ],
   "source": [
    "## Guided approach:\n",
    "#1. what is the variation in prices?\n",
    "ggplot(data=train,aes(x=price)) + \n",
    "  geom_histogram(fill='red') + \n",
    "  labs(title='Histogram of Prices')\n",
    "\n",
    "ggplot(data=train,aes(x=log(price))) + \n",
    "  geom_histogram(fill='red') + \n",
    "  labs(title='Histogram of Prices')\n"
   ]
  },
  {
   "cell_type": "code",
   "execution_count": null,
   "metadata": {
    "collapsed": true
   },
   "outputs": [],
   "source": [
    "#2. How good the products are (condition of the products)?\n",
    "table(train$item_condition_id)\n",
    "library(dplyr)\n",
    "train[,.N, by= item_condition_id] %>%\n",
    "  ggplot(aes(x=as.factor(item_condition_id),y=N/1000)) +\n",
    "  geom_bar(stat = 'identity',fill='blue') \n",
    "\n"
   ]
  },
  {
   "cell_type": "code",
   "execution_count": 39,
   "metadata": {},
   "outputs": [
    {
     "data": {},
     "metadata": {},
     "output_type": "display_data"
    },
    {
     "data": {},
     "metadata": {},
     "output_type": "display_data"
    },
    {
     "data": {},
     "metadata": {},
     "output_type": "display_data"
    }
   ],
   "source": [
    "# which condition ID is superior in terms of prices?\n",
    "train[,.(.N,Med_price=median(price),Mean_price = mean(price)), \n",
    "      by= item_condition_id] \n",
    "\n",
    "ggplot(data=train,aes(x=as.factor(item_condition_id),y=log(price+1))) +\n",
    "  geom_boxplot(fill='orange',color='blue') \n",
    "\n",
    "ggplot(data=train,aes(x=as.factor(item_condition_id),y=price)) +\n",
    "  geom_boxplot(fill='orange',color='blue') \n"
   ]
  },
  {
   "cell_type": "code",
   "execution_count": 40,
   "metadata": {},
   "outputs": [
    {
     "data": {
      "text/plain": [
       "\n",
       "        0         1 \n",
       "0.5522851 0.4477149 "
      ]
     },
     "metadata": {},
     "output_type": "display_data"
    },
    {
     "data": {},
     "metadata": {},
     "output_type": "display_data"
    }
   ],
   "source": [
    "#3. Comment on the shipping condition, how good the shipping condition is?\n",
    "#OR\n",
    "# The items that are paid by the seller has better price than not paid by \n",
    "# the seller?\n",
    "table(train$shipping)/nrow(train)\n",
    "\n",
    "train %>%\n",
    "  ggplot(aes(x=log(price+1),fill=factor(shipping))) +\n",
    "  geom_density(alpha=0.5)\n"
   ]
  },
  {
   "cell_type": "code",
   "execution_count": 41,
   "metadata": {},
   "outputs": [
    {
     "data": {
      "text/plain": [
       "\n",
       "\tWelch Two Sample t-test\n",
       "\n",
       "data:  train$price by train$shipping\n",
       "t = 17.581, df = 29996, p-value < 2.2e-16\n",
       "alternative hypothesis: true difference in means is not equal to 0\n",
       "95 percent confidence interval:\n",
       " 7.137901 8.929136\n",
       "sample estimates:\n",
       "mean in group 0 mean in group 1 \n",
       "       30.55031        22.51679 \n"
      ]
     },
     "metadata": {},
     "output_type": "display_data"
    }
   ],
   "source": [
    "# t-test helps in checking the statistical significance of two group means\n",
    "t.test(train$price~train$shipping)\n"
   ]
  },
  {
   "cell_type": "code",
   "execution_count": 42,
   "metadata": {},
   "outputs": [
    {
     "ename": "ERROR",
     "evalue": "Error in ContinuousRange$new(): `inherit` must be a R6ClassGenerator.\n",
     "output_type": "error",
     "traceback": [
      "Error in ContinuousRange$new(): `inherit` must be a R6ClassGenerator.\nTraceback:\n",
      "1. scale_y_continuous(labels = scales::dollar)",
      "2. continuous_scale(c(\"y\", \"ymin\", \"ymax\", \"yend\", \"yintercept\", \n .     \"ymin_final\", \"ymax_final\"), \"position_c\", identity, ..., \n .     expand = expand, guide = \"none\")",
      "3. structure(list(call = match.call(), aesthetics = aesthetics, \n .     scale_name = scale_name, palette = palette, range = ContinuousRange$new(), \n .     limits = limits, trans = trans, na.value = na.value, expand = expand, \n .     rescaler = rescaler, oob = oob, name = name, breaks = breaks, \n .     minor_breaks = minor_breaks, labels = labels, legend = legend, \n .     guide = guide), class = c(scale_name, \"continuous\", \"scale\"))",
      "4. ContinuousRange$new()",
      "5. stop(\"`inherit` must be a R6ClassGenerator.\")"
     ]
    }
   ],
   "source": [
    "#4. What are the top 10 most expensive brands present?\n",
    "par(mfrow=c(1,2))\n",
    "\n",
    "train[,.(med_price = median(price)), by= brand_name] %>%\n",
    "  head(10) %>%\n",
    "  ggplot(aes(x= reorder(brand_name,med_price),y=med_price)) +\n",
    "  geom_point(color='red') +\n",
    "  coord_flip() +\n",
    "  scale_y_continuous(labels = scales::dollar)\n",
    "\n",
    "train[,.(mean_price = mean(price)), by= brand_name] %>%\n",
    "  head(10) %>%\n",
    "  ggplot(aes(x= reorder(brand_name,mean_price),y=mean_price)) +\n",
    "  geom_point(color='red') +\n",
    "  coord_flip() +\n",
    "  scale_y_continuous(labels = scales::dollar)\n",
    "\n"
   ]
  },
  {
   "cell_type": "code",
   "execution_count": 43,
   "metadata": {},
   "outputs": [
    {
     "data": {},
     "metadata": {},
     "output_type": "display_data"
    }
   ],
   "source": [
    "#5. does expensive brands posses higher prices?\n",
    "train[,.(mean_price = mean(price)), by= brand_name]\n",
    "\n"
   ]
  },
  {
   "cell_type": "code",
   "execution_count": null,
   "metadata": {
    "collapsed": true
   },
   "outputs": [],
   "source": [
    "#6. How many product categories are there?\n",
    "table(train$category_name)\n",
    "\n",
    "unique(train$category_name)\n",
    "\n",
    "length(unique(train$category_name))\n",
    "\n",
    "sort(table(train$category_name),decreasing = T)[1:10]\n"
   ]
  },
  {
   "cell_type": "code",
   "execution_count": null,
   "metadata": {
    "collapsed": true
   },
   "outputs": [],
   "source": [
    "#7. Does the prices vary by product categories? Analyze the prices\n",
    "# by different category?\n",
    "\n",
    "# what are the product categories with the highest selling price?\n",
    "train[,.(median_price = median(price)), by= category_name][order(median_price,decreasing = T)][1:15] %>%\n",
    "  ggplot(aes(x=reorder(category_name,median_price),y=median_price)) +\n",
    "  geom_point(color = 'blue') +\n",
    "  coord_flip() \n"
   ]
  },
  {
   "cell_type": "code",
   "execution_count": null,
   "metadata": {
    "collapsed": true
   },
   "outputs": [],
   "source": [
    "# splitting the columns based on regex '/'\n",
    "library(data.table)\n",
    "train[,c('level1_cat','level2_cat') := tstrsplit(train$category_name,split='/',keep = c(1,2))]\n",
    "\n",
    "head(train[,c('level1_cat','level2_cat')])\n",
    "\n",
    "table(train$level1_cat)\n",
    "\n",
    "table(train$level2_cat)\n"
   ]
  },
  {
   "cell_type": "code",
   "execution_count": null,
   "metadata": {
    "collapsed": true
   },
   "outputs": [],
   "source": [
    "#average prices by level 1 category\n",
    "train %>%\n",
    "ggplot(aes(x=level1_cat,y=log(price+1))) +\n",
    "  geom_boxplot(fill='orange',color = 'blue') +\n",
    "  coord_flip() \n",
    "\n",
    "train %>%\n",
    "  ggplot(aes(x=level2_cat,y=log(price+1))) +\n",
    "  geom_boxplot(fill='orange',color = 'blue') +\n",
    "  coord_flip() \n",
    "\n",
    "head(train)\n"
   ]
  },
  {
   "cell_type": "code",
   "execution_count": null,
   "metadata": {
    "collapsed": true
   },
   "outputs": [],
   "source": [
    "fit <- lm(price~factor(item_condition_id)+factor(shipping),data=train)\n",
    "summary(fit)\n",
    "\n",
    "fit <- lm(price~factor(item_condition_id)+\n",
    "            factor(shipping)+\n",
    "            factor(level1_cat)+\n",
    "            factor(level2_cat),data=train)\n",
    "summary(fit)\n"
   ]
  },
  {
   "cell_type": "code",
   "execution_count": null,
   "metadata": {
    "collapsed": true
   },
   "outputs": [],
   "source": [
    "# we cannot train a regression based model since the R-square value is less than 1%\n",
    "\n",
    "# we need to create better features\n",
    "# calculate the item description length\n",
    "train[,desc_len := nchar(item_description)]\n",
    "\n",
    "summary(train$desc_len)\n",
    "\n",
    "cor(train$desc_len,train$price)\n",
    "\n",
    "cor.test(train$desc_len,train$price)\n"
   ]
  },
  {
   "cell_type": "code",
   "execution_count": null,
   "metadata": {
    "collapsed": true
   },
   "outputs": [],
   "source": [
    "# spurious correlation\n",
    "\n",
    "#let's do some text analysis\n",
    "train[item_description == 'No Description Found', item_description := NA]\n",
    "\n",
    "# create a text corpus to perform text analysis\n",
    "library(tm)\n",
    "library(quanteda)\n",
    "dcorpus <- corpus(train$item_description)\n",
    "summary(dcorpus)[1:5,]\n"
   ]
  },
  {
   "cell_type": "code",
   "execution_count": null,
   "metadata": {
    "collapsed": true
   },
   "outputs": [],
   "source": [
    "# create a context\n",
    "kwic(dcorpus,phrase('Computers and Tablets'),valuetype = 'fixed') %>%\n",
    "  head()\n"
   ]
  },
  {
   "cell_type": "code",
   "execution_count": null,
   "metadata": {
    "collapsed": true
   },
   "outputs": [],
   "source": [
    "# term document matrix/document frequency matrix to extract features from the text data\n",
    "dfm1 <- dfm(\n",
    "  dcorpus,\n",
    "  ngrams=1,\n",
    "  remove = c('rm',stopwords('english')),\n",
    "  remove_punct=T,\n",
    "  remove_numbers = T,\n",
    "  stem=T)\n"
   ]
  },
  {
   "cell_type": "code",
   "execution_count": null,
   "metadata": {
    "collapsed": true
   },
   "outputs": [],
   "source": [
    "# N-gram approach to extract the top features\n",
    "tf <- topfeatures(dfm1,n=30)\n",
    "\n",
    "#let's visualize the top features\n",
    "data.frame(term=names(tf),freq=unname(tf)) %>%\n",
    "  ggplot(aes(x=reorder(term,freq),y=freq/1000)) +\n",
    "  geom_bar(stat = 'identity',fill='red') +\n",
    "  coord_flip()\n",
    "\n"
   ]
  },
  {
   "cell_type": "code",
   "execution_count": null,
   "metadata": {
    "collapsed": true
   },
   "outputs": [],
   "source": [
    "#visualize the word cloud representation\n",
    "#textplot_wordcloud(dfm1,min.freq=2,rot.per=0.2)\n",
    "\n",
    "# term document matrix/document frequency matrix to extract features from the text data\n",
    "dfm2 <- dfm(\n",
    "  dcorpus,\n",
    "  ngrams=2,\n",
    "  remove = c('rm',stopwords('english')),\n",
    "  remove_punct=T,\n",
    "  remove_numbers = T,\n",
    "  concatenator=' ')\n"
   ]
  },
  {
   "cell_type": "code",
   "execution_count": null,
   "metadata": {
    "collapsed": true
   },
   "outputs": [],
   "source": [
    "# N-gram approach to extract the top features\n",
    "tf <- topfeatures(dfm2,n=30)\n",
    "\n",
    "#let's visualize the top features\n",
    "data.frame(term=names(tf),freq=unname(tf)) %>%\n",
    "  ggplot(aes(x=reorder(term,freq),y=freq/1000)) +\n",
    "  geom_bar(stat = 'identity',fill='red') +\n",
    "  coord_flip()\n",
    "\n"
   ]
  },
  {
   "cell_type": "code",
   "execution_count": null,
   "metadata": {
    "collapsed": true
   },
   "outputs": [],
   "source": [
    "#visualize the word cloud representation\n",
    "#textplot_wordcloud(dfm1,min.freq=2,rot.per=0.2)\n",
    "\n",
    "# term document matrix/document frequency matrix to extract features from the text data\n",
    "dfm3 <- dfm(\n",
    "  dcorpus,\n",
    "  ngrams=3,\n",
    "  remove = c('rm',stopwords('english')),\n",
    "  remove_punct=T,\n",
    "  remove_numbers = T,\n",
    "  concatenator=' ')\n",
    "\n",
    "# N-gram approach to extract the top features\n",
    "tf <- topfeatures(dfm3,n=30)\n",
    "\n",
    "#let's visualize the top features\n",
    "data.frame(term=names(tf),freq=unname(tf)) %>%\n",
    "  ggplot(aes(x=reorder(term,freq),y=freq/1000)) +\n",
    "  geom_bar(stat = 'identity',fill='red') +\n",
    "  coord_flip()\n"
   ]
  },
  {
   "cell_type": "code",
   "execution_count": null,
   "metadata": {
    "collapsed": true
   },
   "outputs": [],
   "source": [
    "#visualize the word cloud representation\n",
    "#textplot_wordcloud(dfm1,min.freq=2,rot.per=0.2)\n",
    "# term document matrix/document frequency matrix to extract features from the text data\n",
    "dfm4 <- dfm(\n",
    "  dcorpus,\n",
    "  ngrams=4,\n",
    "  remove = c('rm',stopwords('english')),\n",
    "  remove_punct=T,\n",
    "  remove_numbers = T,\n",
    "  concatenator=' ')\n",
    "\n",
    "# N-gram approach to extract the top features\n",
    "tf <- topfeatures(dfm4,n=30)\n",
    "\n",
    "#let's visualize the top features\n",
    "data.frame(term=names(tf),freq=unname(tf)) %>%\n",
    "  ggplot(aes(x=reorder(term,freq),y=freq/1000)) +\n",
    "  geom_bar(stat = 'identity',fill='red') +\n",
    "  coord_flip()\n"
   ]
  },
  {
   "cell_type": "code",
   "execution_count": null,
   "metadata": {
    "collapsed": true
   },
   "outputs": [],
   "source": [
    "#visualize the word cloud representation\n",
    "#textplot_wordcloud(dfm1,min.freq=2,rot.per=0.2)\n",
    "\n",
    "train %>% head()\n",
    "\n",
    "\n",
    "\n",
    "feat_brand_new <- ifelse(grepl('brand new with tags',train$item_description) |\n",
    "                           grepl('brand new',train$item_description),1,0)\n",
    "table(feat_brand_new)\n",
    "\n",
    "train$brand_new <- feat_brand_new\n",
    "\n",
    "feat_free_ship <- ifelse(grepl('free shipping',train$item_description) |\n",
    "                           grepl('free',train$item_description),1,0)\n",
    "table(feat_free_ship)\n",
    "\n",
    "train$free_ship <- feat_free_ship\n",
    "\n",
    "feat_condition <- ifelse(grepl('great condition',train$item_description) |\n",
    "                           grepl('good condition',train$item_description),1,0)\n",
    "table(feat_condition)\n",
    "\n",
    "train$condition <- feat_condition\n",
    "\n",
    "feat_gold <- ifelse(grepl('gold',train$name) |\n",
    "                           grepl('jewelery',train$category_name),1,0)\n",
    "table(feat_gold)\n",
    "\n",
    "train$gold_item <- feat_gold\n"
   ]
  },
  {
   "cell_type": "code",
   "execution_count": null,
   "metadata": {
    "collapsed": true
   },
   "outputs": [],
   "source": [
    "# please fix the errors related to the library, if possible run it locally."
   ]
  },
  {
   "cell_type": "code",
   "execution_count": null,
   "metadata": {
    "collapsed": true
   },
   "outputs": [],
   "source": []
  },
  {
   "cell_type": "code",
   "execution_count": null,
   "metadata": {
    "collapsed": true
   },
   "outputs": [],
   "source": []
  }
 ],
 "metadata": {
  "kernelspec": {
   "display_name": "Python [conda env:Anaconda3]",
   "language": "python",
   "name": "conda-env-Anaconda3-py"
  },
  "language_info": {
   "codemirror_mode": {
    "name": "ipython",
    "version": 3
   },
   "file_extension": ".py",
   "mimetype": "text/x-python",
   "name": "python",
   "nbconvert_exporter": "python",
   "pygments_lexer": "ipython3",
   "version": "3.5.3"
  }
 },
 "nbformat": 4,
 "nbformat_minor": 1
}
