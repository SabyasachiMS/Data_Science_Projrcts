{
 "cells": [
  {
   "cell_type": "code",
   "execution_count": 1,
   "metadata": {},
   "outputs": [
    {
     "name": "stderr",
     "output_type": "stream",
     "text": [
      "//anaconda3/lib/python3.7/site-packages/statsmodels/tools/_testing.py:19: FutureWarning: pandas.util.testing is deprecated. Use the functions in the public API at pandas.testing instead.\n",
      "  import pandas.util.testing as tm\n"
     ]
    }
   ],
   "source": [
    "import pandas as pd\n",
    "import numpy as np\n",
    "from matplotlib import pyplot as plt\n",
    "from pylab import rcParams\n",
    "rcParams['figure.figsize'] = 7, 6\n",
    "\n",
    "from copy import deepcopy\n",
    "import seaborn as sns\n",
    "\n",
    "import sys\n",
    "sys.path.append('./utils')\n",
    "from utils import review_feature\n",
    "rf = review_feature()\n",
    "%matplotlib inline"
   ]
  },
  {
   "cell_type": "code",
   "execution_count": 2,
   "metadata": {},
   "outputs": [
    {
     "name": "stdout",
     "output_type": "stream",
     "text": [
      "Preprocessed_Reviews.csv test.csv\r\n",
      "Untitled.ipynb           train.csv\r\n"
     ]
    }
   ],
   "source": [
    "!ls data"
   ]
  },
  {
   "cell_type": "code",
   "execution_count": 3,
   "metadata": {},
   "outputs": [],
   "source": [
    "df = pd.read_csv('data/train.csv')"
   ]
  },
  {
   "cell_type": "code",
   "execution_count": 4,
   "metadata": {},
   "outputs": [
    {
     "data": {
      "text/html": [
       "<div>\n",
       "<style scoped>\n",
       "    .dataframe tbody tr th:only-of-type {\n",
       "        vertical-align: middle;\n",
       "    }\n",
       "\n",
       "    .dataframe tbody tr th {\n",
       "        vertical-align: top;\n",
       "    }\n",
       "\n",
       "    .dataframe thead th {\n",
       "        text-align: right;\n",
       "    }\n",
       "</style>\n",
       "<table border=\"1\" class=\"dataframe\">\n",
       "  <thead>\n",
       "    <tr style=\"text-align: right;\">\n",
       "      <th></th>\n",
       "      <th>product</th>\n",
       "      <th>answer_option</th>\n",
       "      <th>label</th>\n",
       "    </tr>\n",
       "  </thead>\n",
       "  <tbody>\n",
       "    <tr>\n",
       "      <th>0</th>\n",
       "      <td>Accucheck</td>\n",
       "      <td>Fast and accurate delivery</td>\n",
       "      <td>0</td>\n",
       "    </tr>\n",
       "    <tr>\n",
       "      <th>1</th>\n",
       "      <td>Accucheck</td>\n",
       "      <td>As usual it is genuine</td>\n",
       "      <td>0</td>\n",
       "    </tr>\n",
       "    <tr>\n",
       "      <th>2</th>\n",
       "      <td>Accucheck</td>\n",
       "      <td>Behavior of delivery boy is very bad. Delivery...</td>\n",
       "      <td>0</td>\n",
       "    </tr>\n",
       "    <tr>\n",
       "      <th>3</th>\n",
       "      <td>Accucheck</td>\n",
       "      <td>fwegwrqdsdvwfg</td>\n",
       "      <td>0</td>\n",
       "    </tr>\n",
       "    <tr>\n",
       "      <th>4</th>\n",
       "      <td>Accucheck</td>\n",
       "      <td>These strips were as per my requirment</td>\n",
       "      <td>0</td>\n",
       "    </tr>\n",
       "    <tr>\n",
       "      <th>...</th>\n",
       "      <td>...</td>\n",
       "      <td>...</td>\n",
       "      <td>...</td>\n",
       "    </tr>\n",
       "    <tr>\n",
       "      <th>1671</th>\n",
       "      <td>Accucheck</td>\n",
       "      <td>Ft GM</td>\n",
       "      <td>0</td>\n",
       "    </tr>\n",
       "    <tr>\n",
       "      <th>1672</th>\n",
       "      <td>Accucheck</td>\n",
       "      <td>I like</td>\n",
       "      <td>1</td>\n",
       "    </tr>\n",
       "    <tr>\n",
       "      <th>1673</th>\n",
       "      <td>Accucheck</td>\n",
       "      <td>Nice price with long expiry</td>\n",
       "      <td>0</td>\n",
       "    </tr>\n",
       "    <tr>\n",
       "      <th>1674</th>\n",
       "      <td>Accucheck</td>\n",
       "      <td>Price &amp; Service</td>\n",
       "      <td>0</td>\n",
       "    </tr>\n",
       "    <tr>\n",
       "      <th>1675</th>\n",
       "      <td>Accucheck</td>\n",
       "      <td>Good discount</td>\n",
       "      <td>0</td>\n",
       "    </tr>\n",
       "  </tbody>\n",
       "</table>\n",
       "<p>1676 rows × 3 columns</p>\n",
       "</div>"
      ],
      "text/plain": [
       "        product                                      answer_option  label\n",
       "0     Accucheck                         Fast and accurate delivery      0\n",
       "1     Accucheck                            As usual it is genuine       0\n",
       "2     Accucheck  Behavior of delivery boy is very bad. Delivery...      0\n",
       "3     Accucheck                                     fwegwrqdsdvwfg      0\n",
       "4     Accucheck             These strips were as per my requirment      0\n",
       "...         ...                                                ...    ...\n",
       "1671  Accucheck                                              Ft GM      0\n",
       "1672  Accucheck                                             I like      1\n",
       "1673  Accucheck                        Nice price with long expiry      0\n",
       "1674  Accucheck                                    Price & Service      0\n",
       "1675  Accucheck                                      Good discount      0\n",
       "\n",
       "[1676 rows x 3 columns]"
      ]
     },
     "execution_count": 4,
     "metadata": {},
     "output_type": "execute_result"
    }
   ],
   "source": [
    "df"
   ]
  },
  {
   "cell_type": "markdown",
   "metadata": {},
   "source": [
    "## Analysis to understand per product who many informative and how many not informative reviews are there. "
   ]
  },
  {
   "cell_type": "code",
   "execution_count": 5,
   "metadata": {},
   "outputs": [
    {
     "data": {
      "text/html": [
       "<div>\n",
       "<style scoped>\n",
       "    .dataframe tbody tr th:only-of-type {\n",
       "        vertical-align: middle;\n",
       "    }\n",
       "\n",
       "    .dataframe tbody tr th {\n",
       "        vertical-align: top;\n",
       "    }\n",
       "\n",
       "    .dataframe thead th {\n",
       "        text-align: right;\n",
       "    }\n",
       "</style>\n",
       "<table border=\"1\" class=\"dataframe\">\n",
       "  <thead>\n",
       "    <tr style=\"text-align: right;\">\n",
       "      <th>label</th>\n",
       "      <th>0</th>\n",
       "      <th>1</th>\n",
       "      <th>All</th>\n",
       "    </tr>\n",
       "    <tr>\n",
       "      <th>product</th>\n",
       "      <th></th>\n",
       "      <th></th>\n",
       "      <th></th>\n",
       "    </tr>\n",
       "  </thead>\n",
       "  <tbody>\n",
       "    <tr>\n",
       "      <th>Accucheck</th>\n",
       "      <td>280</td>\n",
       "      <td>122</td>\n",
       "      <td>402</td>\n",
       "    </tr>\n",
       "    <tr>\n",
       "      <th>Becadexamin</th>\n",
       "      <td>50</td>\n",
       "      <td>30</td>\n",
       "      <td>80</td>\n",
       "    </tr>\n",
       "    <tr>\n",
       "      <th>Evion</th>\n",
       "      <td>89</td>\n",
       "      <td>33</td>\n",
       "      <td>122</td>\n",
       "    </tr>\n",
       "    <tr>\n",
       "      <th>Neurobion</th>\n",
       "      <td>202</td>\n",
       "      <td>221</td>\n",
       "      <td>423</td>\n",
       "    </tr>\n",
       "    <tr>\n",
       "      <th>SevenseascodLiverOil</th>\n",
       "      <td>58</td>\n",
       "      <td>24</td>\n",
       "      <td>82</td>\n",
       "    </tr>\n",
       "    <tr>\n",
       "      <th>Shelcal</th>\n",
       "      <td>205</td>\n",
       "      <td>183</td>\n",
       "      <td>388</td>\n",
       "    </tr>\n",
       "    <tr>\n",
       "      <th>Supradyn</th>\n",
       "      <td>50</td>\n",
       "      <td>23</td>\n",
       "      <td>73</td>\n",
       "    </tr>\n",
       "    <tr>\n",
       "      <th>shampoo</th>\n",
       "      <td>55</td>\n",
       "      <td>51</td>\n",
       "      <td>106</td>\n",
       "    </tr>\n",
       "    <tr>\n",
       "      <th>All</th>\n",
       "      <td>989</td>\n",
       "      <td>687</td>\n",
       "      <td>1676</td>\n",
       "    </tr>\n",
       "  </tbody>\n",
       "</table>\n",
       "</div>"
      ],
      "text/plain": [
       "label                   0    1   All\n",
       "product                             \n",
       "Accucheck             280  122   402\n",
       "Becadexamin            50   30    80\n",
       "Evion                  89   33   122\n",
       "Neurobion             202  221   423\n",
       "SevenseascodLiverOil   58   24    82\n",
       "Shelcal               205  183   388\n",
       "Supradyn               50   23    73\n",
       "shampoo                55   51   106\n",
       "All                   989  687  1676"
      ]
     },
     "execution_count": 5,
     "metadata": {},
     "output_type": "execute_result"
    }
   ],
   "source": [
    "label_analysis = pd.crosstab(df['product'],df['label'], margins='All')\n",
    "label_analysis"
   ]
  },
  {
   "cell_type": "code",
   "execution_count": 6,
   "metadata": {},
   "outputs": [
    {
     "data": {
      "text/plain": [
       "<matplotlib.axes._subplots.AxesSubplot at 0x1a131440b8>"
      ]
     },
     "execution_count": 6,
     "metadata": {},
     "output_type": "execute_result"
    },
    {
     "data": {
      "image/png": "[encoded data removed]",
      "text/plain": [
       "<Figure size 432x288 with 1 Axes>"
      ]
     },
     "metadata": {
      "needs_background": "light"
     },
     "output_type": "display_data"
    }
   ],
   "source": [
    "analysis = label_analysis.reset_index()\n",
    "analysis.columns = ['product','not info', 'info', 'All']\n",
    "analysis.iloc[:-1].plot(x=\"product\", y=[\"not info\", \"info\"], kind=\"bar\")"
   ]
  },
  {
   "cell_type": "markdown",
   "metadata": {},
   "source": [
    "## Lets check the length quality of reviews we have?"
   ]
  },
  {
   "cell_type": "code",
   "execution_count": 7,
   "metadata": {},
   "outputs": [],
   "source": [
    "df['review_len'] = df['answer_option'].apply(lambda x: len(x.split()))"
   ]
  },
  {
   "cell_type": "code",
   "execution_count": 8,
   "metadata": {},
   "outputs": [
    {
     "data": {
      "text/html": [
       "<div>\n",
       "<style scoped>\n",
       "    .dataframe tbody tr th:only-of-type {\n",
       "        vertical-align: middle;\n",
       "    }\n",
       "\n",
       "    .dataframe tbody tr th {\n",
       "        vertical-align: top;\n",
       "    }\n",
       "\n",
       "    .dataframe thead th {\n",
       "        text-align: right;\n",
       "    }\n",
       "</style>\n",
       "<table border=\"1\" class=\"dataframe\">\n",
       "  <thead>\n",
       "    <tr style=\"text-align: right;\">\n",
       "      <th></th>\n",
       "      <th>product</th>\n",
       "      <th>answer_option</th>\n",
       "      <th>label</th>\n",
       "      <th>review_len</th>\n",
       "    </tr>\n",
       "  </thead>\n",
       "  <tbody>\n",
       "    <tr>\n",
       "      <th>0</th>\n",
       "      <td>Accucheck</td>\n",
       "      <td>Fast and accurate delivery</td>\n",
       "      <td>0</td>\n",
       "      <td>4</td>\n",
       "    </tr>\n",
       "    <tr>\n",
       "      <th>1</th>\n",
       "      <td>Accucheck</td>\n",
       "      <td>As usual it is genuine</td>\n",
       "      <td>0</td>\n",
       "      <td>5</td>\n",
       "    </tr>\n",
       "    <tr>\n",
       "      <th>2</th>\n",
       "      <td>Accucheck</td>\n",
       "      <td>Behavior of delivery boy is very bad. Delivery...</td>\n",
       "      <td>0</td>\n",
       "      <td>20</td>\n",
       "    </tr>\n",
       "    <tr>\n",
       "      <th>3</th>\n",
       "      <td>Accucheck</td>\n",
       "      <td>fwegwrqdsdvwfg</td>\n",
       "      <td>0</td>\n",
       "      <td>1</td>\n",
       "    </tr>\n",
       "    <tr>\n",
       "      <th>4</th>\n",
       "      <td>Accucheck</td>\n",
       "      <td>These strips were as per my requirment</td>\n",
       "      <td>0</td>\n",
       "      <td>7</td>\n",
       "    </tr>\n",
       "    <tr>\n",
       "      <th>...</th>\n",
       "      <td>...</td>\n",
       "      <td>...</td>\n",
       "      <td>...</td>\n",
       "      <td>...</td>\n",
       "    </tr>\n",
       "    <tr>\n",
       "      <th>1671</th>\n",
       "      <td>Accucheck</td>\n",
       "      <td>Ft GM</td>\n",
       "      <td>0</td>\n",
       "      <td>2</td>\n",
       "    </tr>\n",
       "    <tr>\n",
       "      <th>1672</th>\n",
       "      <td>Accucheck</td>\n",
       "      <td>I like</td>\n",
       "      <td>1</td>\n",
       "      <td>2</td>\n",
       "    </tr>\n",
       "    <tr>\n",
       "      <th>1673</th>\n",
       "      <td>Accucheck</td>\n",
       "      <td>Nice price with long expiry</td>\n",
       "      <td>0</td>\n",
       "      <td>5</td>\n",
       "    </tr>\n",
       "    <tr>\n",
       "      <th>1674</th>\n",
       "      <td>Accucheck</td>\n",
       "      <td>Price &amp; Service</td>\n",
       "      <td>0</td>\n",
       "      <td>3</td>\n",
       "    </tr>\n",
       "    <tr>\n",
       "      <th>1675</th>\n",
       "      <td>Accucheck</td>\n",
       "      <td>Good discount</td>\n",
       "      <td>0</td>\n",
       "      <td>2</td>\n",
       "    </tr>\n",
       "  </tbody>\n",
       "</table>\n",
       "<p>1676 rows × 4 columns</p>\n",
       "</div>"
      ],
      "text/plain": [
       "        product                                      answer_option  label  \\\n",
       "0     Accucheck                         Fast and accurate delivery      0   \n",
       "1     Accucheck                            As usual it is genuine       0   \n",
       "2     Accucheck  Behavior of delivery boy is very bad. Delivery...      0   \n",
       "3     Accucheck                                     fwegwrqdsdvwfg      0   \n",
       "4     Accucheck             These strips were as per my requirment      0   \n",
       "...         ...                                                ...    ...   \n",
       "1671  Accucheck                                              Ft GM      0   \n",
       "1672  Accucheck                                             I like      1   \n",
       "1673  Accucheck                        Nice price with long expiry      0   \n",
       "1674  Accucheck                                    Price & Service      0   \n",
       "1675  Accucheck                                      Good discount      0   \n",
       "\n",
       "      review_len  \n",
       "0              4  \n",
       "1              5  \n",
       "2             20  \n",
       "3              1  \n",
       "4              7  \n",
       "...          ...  \n",
       "1671           2  \n",
       "1672           2  \n",
       "1673           5  \n",
       "1674           3  \n",
       "1675           2  \n",
       "\n",
       "[1676 rows x 4 columns]"
      ]
     },
     "execution_count": 8,
     "metadata": {},
     "output_type": "execute_result"
    }
   ],
   "source": [
    "df"
   ]
  },
  {
   "cell_type": "code",
   "execution_count": 9,
   "metadata": {},
   "outputs": [],
   "source": [
    "checklen = []\n",
    "for i in range(5,50, 5):\n",
    "    checklen.append(len(df[ (df['review_len']>=i-5) & (df['review_len']<=i)]))"
   ]
  },
  {
   "cell_type": "code",
   "execution_count": 10,
   "metadata": {},
   "outputs": [
    {
     "data": {
      "text/plain": [
       "[957, 649, 161, 75, 38, 22, 9, 7, 3]"
      ]
     },
     "execution_count": 10,
     "metadata": {},
     "output_type": "execute_result"
    }
   ],
   "source": [
    "checklen"
   ]
  },
  {
   "cell_type": "code",
   "execution_count": 11,
   "metadata": {},
   "outputs": [
    {
     "data": {
      "image/png": "[encoded data removed]",
      "text/plain": [
       "<Figure size 432x288 with 1 Axes>"
      ]
     },
     "metadata": {
      "needs_background": "light"
     },
     "output_type": "display_data"
    }
   ],
   "source": [
    "index = np.arange(len(checklen))\n",
    "plt.bar(index, checklen)\n",
    "plt.xlabel('Length of a Review', fontsize=15)\n",
    "plt.ylabel('No. of Reviews', fontsize=15)\n",
    "plt.xticks(index, range(5,50,5), fontsize=15, rotation=30)\n",
    "plt.title('Review Survey Length Analysis')\n",
    "plt.show()\n",
    "\n"
   ]
  },
  {
   "cell_type": "markdown",
   "metadata": {},
   "source": [
    "## We have a fair amount of both details reviews (having length >=5) and short reviews (having length <5)"
   ]
  },
  {
   "cell_type": "markdown",
   "metadata": {},
   "source": [
    "## Data Preprocessing\n",
    "\n",
    "![datapreprocessing](Photos/datapreprocessing.png)"
   ]
  },
  {
   "cell_type": "markdown",
   "metadata": {},
   "source": [
    "## Stage1: Language Detection"
   ]
  },
  {
   "cell_type": "code",
   "execution_count": 12,
   "metadata": {},
   "outputs": [
    {
     "name": "stdout",
     "output_type": "stream",
     "text": [
      "Language exception for: 😕🤔😕🤣😕🤣😢😨😔😭😃😁😣😨😁🤦‍♂️😨☺😣😔😨😛🤦‍♂️😢☺👍🙈😨😕😔😊😢😕😔🙈😨😣🤦‍♂️👍😁🤦‍♂️🙈😁🤦‍♂️😂😕😔😊😨👍😂😢👍😂🙈😢👍😂😭👍😂😭😕🙈👍😕😂☺😕😂😂😣😂😕👍😢😕🤦‍♂️😂😢🤔🙈😕🤦‍♂️🙈😢🤔😂🤦‍♂️🙈🤔😔😣😣👆🙈🤔😔😕😕😨🤣😔😕🙈😊😨😣😣🙈😊😕😂🤔😕😢🤔👍🤣😨😕😭😨😕😭😨😕😭😕👍😭😕😕🤣👍😁😭👍👍😭😕😣🙈😕😣😢😣😣😨😣😛😨😭😣😢😭😨😛😨🤣😢😨😂😊🤔😊🙈🙈🙈😭🐂🐎🐷🐎🐂🐈🐱🐮🦓🐱🐄🦌🦔🌹🥀⚘🌸🏵🌲🌷🌸⚘🌱🥔🍑🍓🍆🥝🍐🥑🥕🍆🍏🥝🍓🥔🥝🍆🥔🥑🥝🥝🥝🍒🥔🥑🥝🍏🍏🥑🥔🍐🍏🥑🥔🥔🥔🍆🍏🍏🍓🍇🥕🍏🍓🍏🍓🍏🥔🍐🍐🥔🍐🥔🥔🍐🥔🥑🍓🍏🍓🥝🍓🥑🍓🥑🍓🥑🥕🍐🥕🍏🍓🍇🍑🍈🥑🍇🥑🍏🍍🥑🍓🍏🍓🍇🍆🍎🥔🥝🍓🍐🍒🍇🍓🥑🍌🍏🍆🥝🍆🥝🍆🍏🍓🥑🍓🍎🍄🥝🍒🥥🍒🥝🥔🥦🍓🍆🍅🍏🥔🥝🥕🥑🍓🍏🥔🥝🥔🥝🍓🥘🥙🥘🌮🍕🌮🍕🌯🥘🥚🥩🥓🍖🌯🥘🍟🌭🥓🍳🥓🥪🥚🍖🍗🍕🥙🌭🍔🌭🍿🌭🥙🏌️‍♂️🥋🏓🎳🏓🏏🏓🥅🏌️‍♂️🥊🏌️‍♂️🎳⛳🏏⛳    🤼‍♀️🏍🤼‍♀️🤸‍♂️🤼‍♀️🤾‍♀️🤼‍♂️🏎🤹‍♂️🤺🤼‍♀️🏎🤼‍♂️       🎳🏸🥅🏸🥋🏌️‍♂️🎿🏚🏛🏝🏣🏙🌋🏜🏛🏝         🎙🎤🎶🎧📲🎤🎸📱🎙🎧🎷🎤🎸📻📲🎚🎧🎸🎼🎸📺📷📽📷📽📷📽🔬📽🔬📽🔬    🎸🥁🎙🎤🎚🎧🎸🥁🥁🎸🎤☎️🎸🎻🎸📱🎚🎤🎸🎤☎️🎧🎸🎤🎙🎤🎤☎️📻☎️🎧🎸🎸🎤🎤☎️🎤🎸🎤🎸🎤🎸🎧🎸🎸🎧🎧🎸🎸🎧🎸🎧📻🎸🎸🎧🎧🎸🎧🎸🎧🎸🎤🎸🎤☎️🎧\n"
     ]
    }
   ],
   "source": [
    "bad_reviews = []\n",
    "for indx in df.index:\n",
    "    review = df.at[indx, 'answer_option']\n",
    "    try:\n",
    "        b = rf.language_detection(review)\n",
    "        if b == 'hi' or b == 'mr':\n",
    "            bad_reviews.append(indx)\n",
    "    except:\n",
    "        bad_reviews.append(indx)\n",
    "        print(\"Language exception for:\", review)"
   ]
  },
  {
   "cell_type": "code",
   "execution_count": 13,
   "metadata": {},
   "outputs": [
    {
     "name": "stdout",
     "output_type": "stream",
     "text": [
      "Number of Bad Reviews at Stage 1:  3\n"
     ]
    }
   ],
   "source": [
    "print(\"Number of Bad Reviews at Stage 1: \", len(bad_reviews))"
   ]
  },
  {
   "cell_type": "code",
   "execution_count": 14,
   "metadata": {},
   "outputs": [
    {
     "data": {
      "text/html": [
       "<div>\n",
       "<style scoped>\n",
       "    .dataframe tbody tr th:only-of-type {\n",
       "        vertical-align: middle;\n",
       "    }\n",
       "\n",
       "    .dataframe tbody tr th {\n",
       "        vertical-align: top;\n",
       "    }\n",
       "\n",
       "    .dataframe thead th {\n",
       "        text-align: right;\n",
       "    }\n",
       "</style>\n",
       "<table border=\"1\" class=\"dataframe\">\n",
       "  <thead>\n",
       "    <tr style=\"text-align: right;\">\n",
       "      <th></th>\n",
       "      <th>product</th>\n",
       "      <th>answer_option</th>\n",
       "      <th>label</th>\n",
       "      <th>review_len</th>\n",
       "    </tr>\n",
       "  </thead>\n",
       "  <tbody>\n",
       "    <tr>\n",
       "      <th>898</th>\n",
       "      <td>Neurobion</td>\n",
       "      <td>अच्छा है</td>\n",
       "      <td>1</td>\n",
       "      <td>2</td>\n",
       "    </tr>\n",
       "    <tr>\n",
       "      <th>1042</th>\n",
       "      <td>Neurobion</td>\n",
       "      <td>😕🤔😕🤣😕🤣😢😨😔😭😃😁😣😨😁🤦‍♂️😨☺😣😔😨😛🤦‍♂️😢☺👍🙈😨😕😔😊😢😕😔🙈😨😣🤦‍♂...</td>\n",
       "      <td>0</td>\n",
       "      <td>5</td>\n",
       "    </tr>\n",
       "    <tr>\n",
       "      <th>1110</th>\n",
       "      <td>Shelcal</td>\n",
       "      <td>साहब बहुत धाँसू गोली है साला मेरा घुटना ख़राब ...</td>\n",
       "      <td>0</td>\n",
       "      <td>23</td>\n",
       "    </tr>\n",
       "  </tbody>\n",
       "</table>\n",
       "</div>"
      ],
      "text/plain": [
       "        product                                      answer_option  label  \\\n",
       "898   Neurobion                                           अच्छा है      1   \n",
       "1042  Neurobion  😕🤔😕🤣😕🤣😢😨😔😭😃😁😣😨😁🤦‍♂️😨☺😣😔😨😛🤦‍♂️😢☺👍🙈😨😕😔😊😢😕😔🙈😨😣🤦‍♂...      0   \n",
       "1110    Shelcal  साहब बहुत धाँसू गोली है साला मेरा घुटना ख़राब ...      0   \n",
       "\n",
       "      review_len  \n",
       "898            2  \n",
       "1042           5  \n",
       "1110          23  "
      ]
     },
     "execution_count": 14,
     "metadata": {},
     "output_type": "execute_result"
    }
   ],
   "source": [
    "df[df.index.isin(bad_reviews)]"
   ]
  },
  {
   "cell_type": "code",
   "execution_count": 15,
   "metadata": {},
   "outputs": [],
   "source": [
    "df = df[~df.index.isin(bad_reviews)].reset_index(drop = True)"
   ]
  },
  {
   "cell_type": "markdown",
   "metadata": {},
   "source": [
    "## Stage 2: Gibberish Reviews\n",
    "+ When, we collect data from customers just out of frustation many reviews write gibberish reviews. \n",
    "+ Example: svfsfg, fsdfgdfgfsgsfgdgh, ffgrthyryj, rhrhfas, kuopip\n",
    "+ We need to detection such reviews and filter thoses out.\n",
    "\n",
    "#### Working\n",
    "You could build a model of character to character transitions from a bunch of text in English. So for example, you find out how common it is for there to be a 'h' after a 't' (pretty common). In English, you expect that after a 'q', you'll get a 'u'. If you get a 'q' followed by something other than a 'u', this will happen with very low probability, and hence it should be pretty alarming. Normalize the counts in your tables so that you have a probability. Then for a query, walk through the matrix and compute the product of the transitions you take. Then normalize by the length of the query. When the number is low, you likely have a gibberish query (or something in a different language).\n",
    "\n",
    "If you have a bunch of query logs, you might first make a model of general English text, and then heavily weight your own queries in that model training phase.\n",
    "\n",
    "For background, read about Markov Chains.\n",
    "\n",
    "Source: https://github.com/rrenaud/Gibberish-Detector\n",
    "\n",
    "> I have trained a model for and have stored it's pickle file."
   ]
  },
  {
   "cell_type": "code",
   "execution_count": 16,
   "metadata": {},
   "outputs": [],
   "source": [
    "bad_reviews = []\n",
    "for indx in df.index:\n",
    "    review = df.at[indx, 'answer_option']\n",
    "    if rf.gibberish_detection(review, prefix_path = 'utils'):\n",
    "        bad_reviews.append(indx)"
   ]
  },
  {
   "cell_type": "code",
   "execution_count": 17,
   "metadata": {},
   "outputs": [
    {
     "name": "stdout",
     "output_type": "stream",
     "text": [
      "Number of Bad Reviews at Stage 2:  8\n"
     ]
    }
   ],
   "source": [
    "print(\"Number of Bad Reviews at Stage 2: \", len(bad_reviews))"
   ]
  },
  {
   "cell_type": "code",
   "execution_count": 18,
   "metadata": {},
   "outputs": [
    {
     "data": {
      "text/plain": [
       "[3, 82, 362, 432, 1449, 1503, 1599, 1668]"
      ]
     },
     "execution_count": 18,
     "metadata": {},
     "output_type": "execute_result"
    }
   ],
   "source": [
    "bad_reviews"
   ]
  },
  {
   "cell_type": "code",
   "execution_count": 19,
   "metadata": {},
   "outputs": [
    {
     "data": {
      "text/html": [
       "<div>\n",
       "<style scoped>\n",
       "    .dataframe tbody tr th:only-of-type {\n",
       "        vertical-align: middle;\n",
       "    }\n",
       "\n",
       "    .dataframe tbody tr th {\n",
       "        vertical-align: top;\n",
       "    }\n",
       "\n",
       "    .dataframe thead th {\n",
       "        text-align: right;\n",
       "    }\n",
       "</style>\n",
       "<table border=\"1\" class=\"dataframe\">\n",
       "  <thead>\n",
       "    <tr style=\"text-align: right;\">\n",
       "      <th></th>\n",
       "      <th>product</th>\n",
       "      <th>answer_option</th>\n",
       "      <th>label</th>\n",
       "      <th>review_len</th>\n",
       "    </tr>\n",
       "  </thead>\n",
       "  <tbody>\n",
       "    <tr>\n",
       "      <th>3</th>\n",
       "      <td>Accucheck</td>\n",
       "      <td>fwegwrqdsdvwfg</td>\n",
       "      <td>0</td>\n",
       "      <td>1</td>\n",
       "    </tr>\n",
       "    <tr>\n",
       "      <th>82</th>\n",
       "      <td>Accucheck</td>\n",
       "      <td>qwerwetrjy</td>\n",
       "      <td>0</td>\n",
       "      <td>1</td>\n",
       "    </tr>\n",
       "    <tr>\n",
       "      <th>362</th>\n",
       "      <td>Neurobion</td>\n",
       "      <td>gehryetw</td>\n",
       "      <td>0</td>\n",
       "      <td>1</td>\n",
       "    </tr>\n",
       "    <tr>\n",
       "      <th>432</th>\n",
       "      <td>Shelcal</td>\n",
       "      <td>gehryetw</td>\n",
       "      <td>0</td>\n",
       "      <td>1</td>\n",
       "    </tr>\n",
       "    <tr>\n",
       "      <th>1449</th>\n",
       "      <td>Accucheck</td>\n",
       "      <td>ghyukuyujredfehrbv</td>\n",
       "      <td>0</td>\n",
       "      <td>1</td>\n",
       "    </tr>\n",
       "    <tr>\n",
       "      <th>1503</th>\n",
       "      <td>Accucheck</td>\n",
       "      <td>VVV. Good</td>\n",
       "      <td>1</td>\n",
       "      <td>2</td>\n",
       "    </tr>\n",
       "    <tr>\n",
       "      <th>1599</th>\n",
       "      <td>Accucheck</td>\n",
       "      <td>wqwasdbggn</td>\n",
       "      <td>1</td>\n",
       "      <td>1</td>\n",
       "    </tr>\n",
       "    <tr>\n",
       "      <th>1668</th>\n",
       "      <td>Accucheck</td>\n",
       "      <td>Ft GM</td>\n",
       "      <td>0</td>\n",
       "      <td>2</td>\n",
       "    </tr>\n",
       "  </tbody>\n",
       "</table>\n",
       "</div>"
      ],
      "text/plain": [
       "        product       answer_option  label  review_len\n",
       "3     Accucheck      fwegwrqdsdvwfg      0           1\n",
       "82    Accucheck          qwerwetrjy      0           1\n",
       "362   Neurobion            gehryetw      0           1\n",
       "432     Shelcal            gehryetw      0           1\n",
       "1449  Accucheck  ghyukuyujredfehrbv      0           1\n",
       "1503  Accucheck           VVV. Good      1           2\n",
       "1599  Accucheck          wqwasdbggn      1           1\n",
       "1668  Accucheck               Ft GM      0           2"
      ]
     },
     "execution_count": 19,
     "metadata": {},
     "output_type": "execute_result"
    }
   ],
   "source": [
    "df[df.index.isin(bad_reviews)]"
   ]
  },
  {
   "cell_type": "code",
   "execution_count": 20,
   "metadata": {},
   "outputs": [],
   "source": [
    "df = df[~df.index.isin(bad_reviews)].reset_index(drop = True)"
   ]
  },
  {
   "cell_type": "markdown",
   "metadata": {},
   "source": [
    "## Stage 3: Profanity Detection"
   ]
  },
  {
   "cell_type": "markdown",
   "metadata": {},
   "source": [
    "+ At times reviewers are not happy with the delivery or service out of frustration they type profanity words in reviews. \n",
    "+ Profanity content also penalises SEO ranking\n",
    "+ We decided to filter out both english and hinglish profanity reviews. \n",
    "\n"
   ]
  },
  {
   "cell_type": "code",
   "execution_count": 22,
   "metadata": {},
   "outputs": [],
   "source": [
    "bad_reviews = []\n",
    "for indx in df.index:\n",
    "    review = df.at[indx, 'answer_option']\n",
    "    if rf.english_swear_check(review) or rf.hindi_swear_check(review):\n",
    "        bad_reviews.append(indx)"
   ]
  },
  {
   "cell_type": "code",
   "execution_count": 23,
   "metadata": {},
   "outputs": [
    {
     "name": "stdout",
     "output_type": "stream",
     "text": [
      "Number of Bad Reviews at Stage 3:  3\n"
     ]
    }
   ],
   "source": [
    "print(\"Number of Bad Reviews at Stage 3: \", len(bad_reviews))"
   ]
  },
  {
   "cell_type": "code",
   "execution_count": 24,
   "metadata": {},
   "outputs": [
    {
     "data": {
      "text/html": [
       "<div>\n",
       "<style scoped>\n",
       "    .dataframe tbody tr th:only-of-type {\n",
       "        vertical-align: middle;\n",
       "    }\n",
       "\n",
       "    .dataframe tbody tr th {\n",
       "        vertical-align: top;\n",
       "    }\n",
       "\n",
       "    .dataframe thead th {\n",
       "        text-align: right;\n",
       "    }\n",
       "</style>\n",
       "<table border=\"1\" class=\"dataframe\">\n",
       "  <thead>\n",
       "    <tr style=\"text-align: right;\">\n",
       "      <th></th>\n",
       "      <th>product</th>\n",
       "      <th>answer_option</th>\n",
       "      <th>label</th>\n",
       "      <th>review_len</th>\n",
       "    </tr>\n",
       "  </thead>\n",
       "  <tbody>\n",
       "    <tr>\n",
       "      <th>140</th>\n",
       "      <td>shampoo</td>\n",
       "      <td>STOP SENDING ME SMS you assholes</td>\n",
       "      <td>0</td>\n",
       "      <td>6</td>\n",
       "    </tr>\n",
       "    <tr>\n",
       "      <th>1009</th>\n",
       "      <td>Neurobion</td>\n",
       "      <td>MotherFucker I dont want anything</td>\n",
       "      <td>1</td>\n",
       "      <td>5</td>\n",
       "    </tr>\n",
       "    <tr>\n",
       "      <th>1187</th>\n",
       "      <td>Shelcal</td>\n",
       "      <td>SHELLCALL IS TAKEN BYYOU WIFE, BECAUSE SHE HAS...</td>\n",
       "      <td>1</td>\n",
       "      <td>22</td>\n",
       "    </tr>\n",
       "  </tbody>\n",
       "</table>\n",
       "</div>"
      ],
      "text/plain": [
       "        product                                      answer_option  label  \\\n",
       "140     shampoo                   STOP SENDING ME SMS you assholes      0   \n",
       "1009  Neurobion                  MotherFucker I dont want anything      1   \n",
       "1187    Shelcal  SHELLCALL IS TAKEN BYYOU WIFE, BECAUSE SHE HAS...      1   \n",
       "\n",
       "      review_len  \n",
       "140            6  \n",
       "1009           5  \n",
       "1187          22  "
      ]
     },
     "execution_count": 24,
     "metadata": {},
     "output_type": "execute_result"
    }
   ],
   "source": [
    "df[df.index.isin(bad_reviews)]"
   ]
  },
  {
   "cell_type": "code",
   "execution_count": 25,
   "metadata": {},
   "outputs": [],
   "source": [
    "df = df[~df.index.isin(bad_reviews)].reset_index(drop = True)"
   ]
  },
  {
   "cell_type": "markdown",
   "metadata": {},
   "source": [
    "## Stage 4: Spelling Correction (Optional Stage not that necessary)\n",
    "+ Trying to improve quality of reviews which have high confidence spell errors. Like withut -> without"
   ]
  },
  {
   "cell_type": "code",
   "execution_count": 26,
   "metadata": {},
   "outputs": [],
   "source": [
    "for indx in df.index:\n",
    "    review = df.at[indx, 'answer_option']\n",
    "    df.at[indx, 'answer_option'] = rf.spell_correct(review, 0.9)"
   ]
  },
  {
   "cell_type": "markdown",
   "metadata": {},
   "source": [
    "## Stage 4.1: Company Tag (Optional Stage)"
   ]
  },
  {
   "cell_type": "code",
   "execution_count": 27,
   "metadata": {},
   "outputs": [
    {
     "name": "stdout",
     "output_type": "stream",
     "text": [
      "{'big bazaar', 'airtel', 'practo', 'medplusmart', 'paypal', 'healthkart', 'flipkart', 'grofer', 'pharmeasy', 'bigbazaar', 'dunzo', 'medidoor', 'paytm', 'zoylo', 'mobiwik', 'medlife', 'sastasundar', 'pharmbros', 'medplus', 'lifcare', 'amazon', 'freecharge', 'medjio', 'bigbasket', 'lybrate', 'netmeds', 'medibuddy'}\n"
     ]
    }
   ],
   "source": [
    "bad_reviews = []\n",
    "for indx in df.index:\n",
    "    review = df.at[indx, 'answer_option']\n",
    "    if rf.competitive_brand_tag(review):\n",
    "        bad_reviews.append(indx)"
   ]
  },
  {
   "cell_type": "code",
   "execution_count": 28,
   "metadata": {},
   "outputs": [
    {
     "name": "stdout",
     "output_type": "stream",
     "text": [
      "Number of Bad Reviews at Stage 4.1:  7\n"
     ]
    }
   ],
   "source": [
    "print(\"Number of Bad Reviews at Stage 4.1: \", len(bad_reviews))"
   ]
  },
  {
   "cell_type": "code",
   "execution_count": 29,
   "metadata": {},
   "outputs": [
    {
     "data": {
      "text/html": [
       "<div>\n",
       "<style scoped>\n",
       "    .dataframe tbody tr th:only-of-type {\n",
       "        vertical-align: middle;\n",
       "    }\n",
       "\n",
       "    .dataframe tbody tr th {\n",
       "        vertical-align: top;\n",
       "    }\n",
       "\n",
       "    .dataframe thead th {\n",
       "        text-align: right;\n",
       "    }\n",
       "</style>\n",
       "<table border=\"1\" class=\"dataframe\">\n",
       "  <thead>\n",
       "    <tr style=\"text-align: right;\">\n",
       "      <th></th>\n",
       "      <th>product</th>\n",
       "      <th>answer_option</th>\n",
       "      <th>label</th>\n",
       "      <th>review_len</th>\n",
       "    </tr>\n",
       "  </thead>\n",
       "  <tbody>\n",
       "    <tr>\n",
       "      <th>33</th>\n",
       "      <td>Accucheck</td>\n",
       "      <td>amazon products are better</td>\n",
       "      <td>0</td>\n",
       "      <td>4</td>\n",
       "    </tr>\n",
       "    <tr>\n",
       "      <th>348</th>\n",
       "      <td>Neurobion</td>\n",
       "      <td>Almost no discount on OTC products Pharmeasy &amp;...</td>\n",
       "      <td>0</td>\n",
       "      <td>20</td>\n",
       "    </tr>\n",
       "    <tr>\n",
       "      <th>444</th>\n",
       "      <td>Shelcal</td>\n",
       "      <td>papal payment method was not working Product w...</td>\n",
       "      <td>0</td>\n",
       "      <td>9</td>\n",
       "    </tr>\n",
       "    <tr>\n",
       "      <th>615</th>\n",
       "      <td>SevenseascodLiverOil</td>\n",
       "      <td>Cheaper on amazon</td>\n",
       "      <td>0</td>\n",
       "      <td>3</td>\n",
       "    </tr>\n",
       "    <tr>\n",
       "      <th>941</th>\n",
       "      <td>Neurobion</td>\n",
       "      <td>Amazon has better quality for products</td>\n",
       "      <td>1</td>\n",
       "      <td>6</td>\n",
       "    </tr>\n",
       "    <tr>\n",
       "      <th>1057</th>\n",
       "      <td>Neurobion</td>\n",
       "      <td>Almost no discount on OTC products Pharmeasy &amp;...</td>\n",
       "      <td>0</td>\n",
       "      <td>20</td>\n",
       "    </tr>\n",
       "    <tr>\n",
       "      <th>1324</th>\n",
       "      <td>Shelcal</td>\n",
       "      <td>grofer is best</td>\n",
       "      <td>1</td>\n",
       "      <td>3</td>\n",
       "    </tr>\n",
       "  </tbody>\n",
       "</table>\n",
       "</div>"
      ],
      "text/plain": [
       "                   product                                      answer_option  \\\n",
       "33               Accucheck                         amazon products are better   \n",
       "348              Neurobion  Almost no discount on OTC products Pharmeasy &...   \n",
       "444                Shelcal  papal payment method was not working Product w...   \n",
       "615   SevenseascodLiverOil                                  Cheaper on amazon   \n",
       "941              Neurobion             Amazon has better quality for products   \n",
       "1057             Neurobion  Almost no discount on OTC products Pharmeasy &...   \n",
       "1324               Shelcal                                     grofer is best   \n",
       "\n",
       "      label  review_len  \n",
       "33        0           4  \n",
       "348       0          20  \n",
       "444       0           9  \n",
       "615       0           3  \n",
       "941       1           6  \n",
       "1057      0          20  \n",
       "1324      1           3  "
      ]
     },
     "execution_count": 29,
     "metadata": {},
     "output_type": "execute_result"
    }
   ],
   "source": [
    "df[df.index.isin(bad_reviews)]"
   ]
  },
  {
   "cell_type": "code",
   "execution_count": 30,
   "metadata": {},
   "outputs": [],
   "source": [
    "df = df[~df.index.isin(bad_reviews)].reset_index(drop = True)"
   ]
  },
  {
   "cell_type": "code",
   "execution_count": 31,
   "metadata": {},
   "outputs": [
    {
     "name": "stdout",
     "output_type": "stream",
     "text": [
      "Total Count of Reviews after preprocessing:  1655\n"
     ]
    }
   ],
   "source": [
    "print(\"Total Count of Reviews after preprocessing: \", len(df))"
   ]
  },
  {
   "cell_type": "code",
   "execution_count": 32,
   "metadata": {},
   "outputs": [],
   "source": [
    "df.to_csv('data/Preprocessed_Reviews.csv',index = False)"
   ]
  },
  {
   "cell_type": "markdown",
   "metadata": {},
   "source": [
    "# Summary\n",
    "+ So far, we have done EDA of Data.\n",
    "+ Preprocessing of reviews in 4 main stages. \n",
    "\n",
    "### Initial Count of Reviews was: 1676\n",
    "### Final Count of Reviews is: 1655\n",
    "\n",
    "+ We have to be strict with are preprocessing so that no bad content is shown on our website. \n",
    "+ By preprocessing we are reducing False positives. \n",
    "\n",
    "### Note: You may feel that only 21 reviews are scrapped but when you will be working on full scale then you will observed that about 8-10% of total reviews would be junk."
   ]
  }
 ],
 "metadata": {
  "kernelspec": {
   "display_name": "Python 3",
   "language": "python",
   "name": "python3"
  },
  "language_info": {
   "codemirror_mode": {
    "name": "ipython",
    "version": 3
   },
   "file_extension": ".py",
   "mimetype": "text/x-python",
   "name": "python",
   "nbconvert_exporter": "python",
   "pygments_lexer": "ipython3",
   "version": "3.7.3"
  }
 },
 "nbformat": 4,
 "nbformat_minor": 2
}
