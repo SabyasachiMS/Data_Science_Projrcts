{
 "cells": [
  {
   "cell_type": "markdown",
   "metadata": {},
   "source": [
    "# Data Science Project in Python- Given his or her job role, predict employee access needs using amazon employee database."
   ]
  },
  {
   "cell_type": "markdown",
   "metadata": {},
   "source": [
    "## When an employee at any company starts work, they first need to obtain the computer access necessary to fulfill their role. This access may allow an employee to read/manipulate resources through various applications or web portals. It is assumed that employees fulfilling the functions of a given role will access the same or similar resources. It is often the case that employees figure out the access they need as they encounter roadblocks during their daily work (e.g. not able to log into a reporting portal). A knowledgeable supervisor then takes time to manually grant the needed access in order to overcome access obstacles. As employees move throughout a company, this access discovery/recovery cycle wastes a nontrivial amount of time and money.\n",
    "\n",
    "\n",
    "## There is a considerable amount of data regarding an employee’s role within an organization and the resources to which they have access. Given the data related to current employees and their provisioned access, models can be built that automatically determine access privileges as employees enter and leave roles within a company. In this data science project, we will build an auto-access model that minimizes the human involvement required to grant or revoke employee access.\n"
   ]
  },
  {
   "cell_type": "code",
   "execution_count": null,
   "metadata": {
    "collapsed": true
   },
   "outputs": [],
   "source": [
    "/root/hackerday/12_employee_access_need/train.csv\n",
    "/root/hackerday/12_employee_access_need/test.csv\n",
    "/root/hackerday/12_employee_access_need/sampleSubmission.csv"
   ]
  },
  {
   "cell_type": "code",
   "execution_count": null,
   "metadata": {
    "collapsed": true
   },
   "outputs": [],
   "source": [
    "#Import the dataset\n",
    "#Perform Univariate Analysis\n",
    "#Data Transformation conversion\n",
    "#prepare model data\n",
    "#select model\n",
    "#apply model\n",
    "#evaluate results"
   ]
  },
  {
   "cell_type": "code",
   "execution_count": 1,
   "metadata": {
    "collapsed": true
   },
   "outputs": [],
   "source": [
    "import pandas as pd\n",
    "import numpy as np\n",
    "import matplotlib as plt\n",
    "%matplotlib inline"
   ]
  },
  {
   "cell_type": "code",
   "execution_count": 4,
   "metadata": {},
   "outputs": [
    {
     "name": "stdout",
     "output_type": "stream",
     "text": [
      "   ACTION  RESOURCE  MGR_ID  ROLE_ROLLUP_1  ROLE_ROLLUP_2  ROLE_DEPTNAME  \\\n",
      "0       1     39353   85475         117961         118300         123472   \n",
      "1       1     17183    1540         117961         118343         123125   \n",
      "2       1     36724   14457         118219         118220         117884   \n",
      "3       1     36135    5396         117961         118343         119993   \n",
      "4       1     42680    5905         117929         117930         119569   \n",
      "\n",
      "   ROLE_TITLE  ROLE_FAMILY_DESC  ROLE_FAMILY  ROLE_CODE  \n",
      "0      117905            117906       290919     117908  \n",
      "1      118536            118536       308574     118539  \n",
      "2      117879            267952        19721     117880  \n",
      "3      118321            240983       290919     118322  \n",
      "4      119323            123932        19793     119325  \n"
     ]
    }
   ],
   "source": [
    "trdata = pd.read_csv(\"/root/hackerday/12_employee_access_need/train.csv\")\n",
    "print trdata.head()"
   ]
  },
  {
   "cell_type": "code",
   "execution_count": 13,
   "metadata": {},
   "outputs": [
    {
     "data": {
      "text/plain": [
       "118300    4424\n",
       "118343    3945\n",
       "118327    2641\n",
       "118225    2547\n",
       "118386    1796\n",
       "Name: ROLE_ROLLUP_2, dtype: int64"
      ]
     },
     "execution_count": 13,
     "metadata": {},
     "output_type": "execute_result"
    }
   ],
   "source": [
    "trdata['ROLE_ROLLUP_2'].value_counts().head()"
   ]
  },
  {
   "cell_type": "code",
   "execution_count": 9,
   "metadata": {},
   "outputs": [
    {
     "data": {
      "text/plain": [
       "<matplotlib.axes._subplots.AxesSubplot at 0x7fc49e630090>"
      ]
     },
     "execution_count": 9,
     "metadata": {},
     "output_type": "execute_result"
    },
    {
     "data": {
      "image/png": "[encoded data removed]",
      "text/plain": [
       "<matplotlib.figure.Figure at 0x7fc49e680fd0>"
      ]
     },
     "metadata": {},
     "output_type": "display_data"
    }
   ],
   "source": [
    "trdata['MGR_ID'].value_counts().plot(kind='bar')"
   ]
  },
  {
   "cell_type": "code",
   "execution_count": 22,
   "metadata": {
    "collapsed": true
   },
   "outputs": [],
   "source": [
    "from numpy import array\n",
    "from sklearn import metrics, linear_model\n",
    "from sklearn.cross_validation import KFold\n",
    "from scipy import sparse\n",
    "from itertools import combinations\n"
   ]
  },
  {
   "cell_type": "code",
   "execution_count": 23,
   "metadata": {
    "collapsed": true
   },
   "outputs": [],
   "source": [
    "import numpy as np\n",
    "import pandas as pd\n",
    "import sys\n",
    "import random\n",
    "import time"
   ]
  },
  {
   "cell_type": "code",
   "execution_count": 24,
   "metadata": {
    "collapsed": true
   },
   "outputs": [],
   "source": [
    "def dict_encode(encoding, value):\n",
    "    if not value in encoding:\n",
    "        encoding[value] = {'code': len(encoding)+1, 'count': 0}\n",
    "    enc = encoding[value]\n",
    "    enc['count'] += 1\n",
    "    encoding[value] = enc"
   ]
  },
  {
   "cell_type": "code",
   "execution_count": 25,
   "metadata": {
    "collapsed": true
   },
   "outputs": [],
   "source": [
    "def dict_decode(encoding, value, min_occurs):\n",
    "    enc = encoding[value]\n",
    "    if enc['count'] < min_occurs:\n",
    "        return -1\n",
    "    else:\n",
    "        return enc['code']"
   ]
  },
  {
   "cell_type": "code",
   "execution_count": 26,
   "metadata": {
    "collapsed": true
   },
   "outputs": [],
   "source": [
    "def group_data(data, degree, min_occurs):\n",
    "    \"\"\" \n",
    "    numpy.array -> numpy.array\n",
    "    \n",
    "    Groups all columns of data into all combinations of degree\n",
    "    \"\"\"\n",
    "    m, n = data.shape\n",
    "    encoding = dict()\n",
    "    for indexes in combinations(range(n), degree):\n",
    "        for v in data[:, indexes]:\n",
    "            dict_encode(encoding, tuple(v))\n",
    "    new_data = []\n",
    "    for indexes in combinations(range(n), degree):\n",
    "        new_data.append([dict_decode(encoding, tuple(v), min_occurs) for v in data[:, indexes]])\n",
    "    return array(new_data).T"
   ]
  },
  {
   "cell_type": "code",
   "execution_count": 19,
   "metadata": {
    "collapsed": true
   },
   "outputs": [],
   "source": [
    "def one_hot_encoder(data, keymap=None):\n",
    "    \"\"\"\n",
    "     one_hot_encoder takes data matrix with categorical columns and\n",
    "     converts it to a sparse binary matrix.\n",
    "     \n",
    "     Returns sparse binary matrix and keymap mapping categories to indicies.\n",
    "     If a keymap is supplied on input it will be used instead of creating one\n",
    "     and any categories appearing in the data that are not in the keymap are\n",
    "     ignored\n",
    "     \"\"\"\n",
    "    if keymap is None:\n",
    "        keymap = []\n",
    "        for col in data.T:\n",
    "            uniques = set(list(col))\n",
    "            keymap.append(dict((key, i) for i, key in enumerate(uniques)))\n",
    "    total_pts = data.shape[0]\n",
    "    outdat = []\n",
    "    for i, col in enumerate(data.T):\n",
    "        km = keymap[i]\n",
    "        num_labels = len(km)\n",
    "        spmat = sparse.lil_matrix((total_pts, num_labels))\n",
    "        for j, val in enumerate(col):\n",
    "            if val in km:\n",
    "                spmat[j, km[val]] = 1\n",
    "        outdat.append(spmat)\n",
    "    outdat = sparse.hstack(outdat).tocsr()\n",
    "    return outdat, keymap"
   ]
  },
  {
   "cell_type": "code",
   "execution_count": 27,
   "metadata": {
    "collapsed": true
   },
   "outputs": [],
   "source": [
    "def create_test_submission(filename, prediction):\n",
    "    content = ['id,ACTION']\n",
    "    for i, p in enumerate(prediction):\n",
    "        content.append('%i,%f' % (i + 1, p))\n",
    "    f = open(filename, 'w')\n",
    "    f.write('\\n'.join(content))\n",
    "    f.close()\n",
    "    print('Saved')"
   ]
  },
  {
   "cell_type": "code",
   "execution_count": 28,
   "metadata": {
    "collapsed": true
   },
   "outputs": [],
   "source": [
    "def cv_loop(X, y, model, N, seed):\n",
    "    mean_auc = 0.\n",
    "    k_fold = KFold(len(y), N, indices=True, shuffle=True,\n",
    "                   random_state=seed)\n",
    "    for train_ix, test_ix in k_fold:\n",
    "        model.fit(X[train_ix], y[train_ix])\n",
    "        preds = model.predict_proba(X[test_ix])[:, 1]\n",
    "        auc = metrics.auc_score(y[test_ix], preds)\n",
    "        #print(\"AUC (fold %d/%d): %f\" % (i + 1, N, auc))\n",
    "        mean_auc += auc\n",
    "    return mean_auc / N"
   ]
  },
  {
   "cell_type": "code",
   "execution_count": null,
   "metadata": {},
   "outputs": [
    {
     "name": "stdout",
     "output_type": "stream",
     "text": [
      "{'submit': 'lr/data.lr.11.1.test.pred.csv', 'train': '-f', 'good_features': None, 'test': '/home/ubuntu/.local/share/jupyter/runtime/kernel-404c5bd7-dfd1-418d-a845-1a214ec43e49.json', 'seed': 123, 'min_occurs': 3}\n",
      "Reading train dataset...\n",
      "Reading test dataset...\n",
      "Transforming data (32769 instances)..."
     ]
    }
   ],
   "source": [
    "def main(train, test, submit, seed, min_occurs, good_features):\n",
    "\n",
    "    start_time = time.time()\n",
    "    print(\"Reading train dataset...\")\n",
    "    train_data = pd.read_csv(\"/root/hackerday/12_employee_access_need/train.csv\")\n",
    "    #print(train_data.head())\n",
    "\n",
    "    print(\"Reading test dataset...\")\n",
    "    test_data = pd.read_csv(\"/root/hackerday/12_employee_access_need/test.csv\")\n",
    "    #print(test_data.head())\n",
    "\n",
    "    all_data = np.vstack((train_data.ix[:, 1:], test_data.ix[:, 1:]))\n",
    "\n",
    "    num_train = np.shape(train_data)[0]\n",
    "    # Transform data\n",
    "    print(\"Transforming data (%i instances)...\" % num_train)\n",
    "    d_2 = group_data(all_data, degree=2, min_occurs=min_occurs)\n",
    "    d_3 = group_data(all_data, degree=3, min_occurs=min_occurs)\n",
    "    d_4 = group_data(all_data, degree=4, min_occurs=min_occurs)\n",
    "    d_5 = group_data(all_data, degree=5, min_occurs=min_occurs)\n",
    "    d_6 = group_data(all_data, degree=6, min_occurs=min_occurs)\n",
    "    d_7 = group_data(all_data, degree=7, min_occurs=min_occurs)\n",
    "\n",
    "    y = array(train_data.ACTION)\n",
    "    #X_train_all = np.hstack((all_data[:num_train], d_2[:num_train], d_3[:num_train],\n",
    "    #                         d_4[:num_train], d_7[:num_train]))\n",
    "    #X_test_all = np.hstack((all_data[num_train:], d_2[num_train:], d_3[num_train:],\n",
    "    #                        d_4[num_train:], d_7[num_train:]))\n",
    "    X_train_all = np.hstack((all_data[:num_train], d_2[:num_train], d_3[:num_train], d_4[:num_train],\n",
    "                             d_5[:num_train], d_6[:num_train], d_7[:num_train]))\n",
    "    X_test_all = np.hstack((all_data[num_train:], d_2[num_train:], d_3[num_train:], d_4[num_train:],\n",
    "                            d_5[num_train:], d_6[num_train:], d_7[num_train:]))\n",
    "    num_features = X_train_all.shape[1]\n",
    "    print(\"Total number of categorical features %i\" % num_features)\n",
    "\n",
    "    rnd = random.Random()\n",
    "    rnd.seed(seed*num_features)\n",
    "\n",
    "    model = linear_model.LogisticRegression()\n",
    "    model.C = 0.5 + rnd.random()*3.5\n",
    "    print(\"Logistic C parameter: %f\" % model.C)\n",
    "\n",
    "    # Xts holds one hot encodings for each individual feature in memory\n",
    "    # speeding up feature selection \n",
    "    Xts = [one_hot_encoder(X_train_all[:, [i]])[0] for i in range(num_features)]\n",
    "\n",
    "    print(\"Performing aproximate greedy feature selection...\")\n",
    "    N = 10\n",
    "    if good_features is None:\n",
    "        score_hist = []\n",
    "        good_features = set([])\n",
    "\n",
    "        # Feature selection loop\n",
    "        f_remain = range(len(Xts))\n",
    "        cur_best_score = -1\n",
    "        cur_best_score_thres = 1.0\n",
    "        while len(score_hist) < 2 or score_hist[-1][0] > score_hist[-2][0]:\n",
    "            scores = []\n",
    "            f_shuff = list(f_remain)\n",
    "            rnd.shuffle(f_shuff)\n",
    "            n_thres = 0.3679*len(f_remain)\n",
    "            i = 0\n",
    "            iter_best_score = -1\n",
    "            for f in f_shuff:\n",
    "\n",
    "                i += 1\n",
    "                feats = list(good_features) + [f]\n",
    "                Xt = sparse.hstack([Xts[j] for j in feats]).tocsr()\n",
    "                score = cv_loop(Xt, y, model, N, seed)\n",
    "                if score < (cur_best_score*cur_best_score_thres):\n",
    "                    f_remain.remove(f)\n",
    "                    print(\"Discarded: %i (AUC = %f) \" % (f, score))\n",
    "                else:\n",
    "                    scores.append((score, f))\n",
    "                    if score > iter_best_score:\n",
    "                        iter_best_score = score\n",
    "                        if i > n_thres and iter_best_score > cur_best_score:\n",
    "                            print(\"Early stop on iter %i\" % i)\n",
    "                            break\n",
    "            if len(scores) > 0:\n",
    "                best_score = sorted(scores)[-1]\n",
    "                f_remain.remove(best_score[1])\n",
    "                if best_score[0] > cur_best_score:\n",
    "                    good_features.add(best_score[1])\n",
    "                    score_hist.append(best_score)\n",
    "                    cur_best_score = best_score[0]\n",
    "                print(\"Current features: %s (AUC = %f, remain = %i) \" %\n",
    "                      (list(good_features), best_score[0], len(f_remain)))\n",
    "            else:\n",
    "                break\n",
    "\n",
    "    good_features = sorted(list(good_features))\n",
    "    print(\"Selected features %s\" % good_features)\n",
    "\n",
    "    print(\"Performing hyperparameter selection...\")\n",
    "    # Hyperparameter selection loop\n",
    "    Xt = sparse.hstack([Xts[j] for j in good_features]).tocsr()\n",
    "    score_hist = []\n",
    "    score = cv_loop(Xt, y, model, N, seed)\n",
    "    score_hist.append((score, model.C))\n",
    "    \n",
    "    Cvals = np.logspace(-3, 4, 20, base=2)\n",
    "    for C in Cvals:\n",
    "        model.C = C\n",
    "        score = cv_loop(Xt, y, model, N, seed)\n",
    "        score_hist.append((score, C))\n",
    "        print(\"C: %f Mean AUC: %f\" % (C, score))\n",
    "    model.C = sorted(score_hist)[-1][1]\n",
    "    score = sorted(score_hist)[-1][0]\n",
    "    print(\"Best (C, AUC): (%f, %f)\" % (model.C, score))\n",
    "\n",
    "    print(\"Performing One Hot Encoding on entire dataset...\")\n",
    "    Xt = np.vstack((X_train_all[:, good_features], X_test_all[:, good_features]))\n",
    "    Xt, keymap = one_hot_encoder(Xt)\n",
    "    X_train = Xt[:num_train]\n",
    "    X_test = Xt[num_train:]\n",
    "\n",
    "    print(\"Training full model...\")\n",
    "    model.fit(X_train, y)\n",
    "\n",
    "    print(\"Making prediction and saving results...\")\n",
    "    preds = model.predict_proba(X_test)[:, 1]\n",
    "    create_test_submission(submit, preds)\n",
    "    print(\"Total time %f minutes\" % ((time.time() - start_time)/60.0))\n",
    "\n",
    "\n",
    "if __name__ == \"__main__\":\n",
    "\n",
    "    name_def = '11.1'\n",
    "    args = {'train': 'lr/data.lr.' + name_def + '.tr.csv',\n",
    "            'test': 'lr/data.lr.' + name_def + '.test.csv',\n",
    "            'submit': 'lr/data.lr.' + name_def + '.test.pred.csv',\n",
    "            'seed': 123,\n",
    "            'min_occurs': 3,\n",
    "            'good_features': []}\n",
    "    if len(sys.argv) >= 2:\n",
    "        args['train'] = sys.argv[1]\n",
    "\n",
    "    if len(sys.argv) >= 3:\n",
    "        args['test'] = sys.argv[2]\n",
    "\n",
    "    if len(sys.argv) >= 4:\n",
    "        args['submit'] = sys.argv[3]\n",
    "\n",
    "    if len(sys.argv) >= 5:\n",
    "        args['seed'] = int(sys.argv[4])\n",
    "\n",
    "    if len(sys.argv) >= 6:\n",
    "        args['min_occurs'] = int(sys.argv[5])\n",
    "\n",
    "    if len(sys.argv) >= 7:\n",
    "        args['good_features'] = [int(val) for val in sys.argv[6].split(',')]\n",
    "\n",
    "    if len(args['good_features']) == 0:\n",
    "        args['good_features'] = None\n",
    "\n",
    "    print(args)\n",
    "    main(**args)\n",
    "                            "
   ]
  },
  {
   "cell_type": "code",
   "execution_count": null,
   "metadata": {
    "collapsed": true
   },
   "outputs": [],
   "source": []
  }
 ],
 "metadata": {
  "kernelspec": {
   "display_name": "Python [conda env:Anaconda3]",
   "language": "python",
   "name": "conda-env-Anaconda3-py"
  },
  "language_info": {
   "codemirror_mode": {
    "name": "ipython",
    "version": 3
   },
   "file_extension": ".py",
   "mimetype": "text/x-python",
   "name": "python",
   "nbconvert_exporter": "python",
   "pygments_lexer": "ipython3",
   "version": "3.5.3"
  }
 },
 "nbformat": 4,
 "nbformat_minor": 1
}
