{
 "cells": [
  {
   "cell_type": "markdown",
   "metadata": {},
   "source": [
    "# Deep Learning Project- Learn to apply deep learning paradigm to forecast univariate time series data."
   ]
  },
  {
   "cell_type": "markdown",
   "metadata": {},
   "source": [
    "## Deep learning is an upcoming field, where we are seeing a lot of implementations in the day to day business operations, including segmentation, clustering, forecasting, prediction or recommendation etc. Deep learning architecture has many branches and one of them is the recurrent neural network (RNN), the method that we are going to analyze in this deep learning project is about Long Short Term Memory Network (LSTM) to perform time series forecasting for univariate time series data."
   ]
  },
  {
   "cell_type": "code",
   "execution_count": 79,
   "metadata": {},
   "outputs": [
    {
     "data": {
      "image/png": "[encoded data removed]",
      "text/plain": [
       "<matplotlib.figure.Figure at 0x12762128>"
      ]
     },
     "metadata": {},
     "output_type": "display_data"
    }
   ],
   "source": [
    "import pandas\n",
    "import matplotlib.pyplot as plt\n",
    "%matplotlib inline\n",
    "dataset = pandas.read_csv('C:/Users/Dell/Downloads/international-airline-passengers.csv',usecols=[1],engine='python',skipfooter=3)\n",
    "plt.plot(dataset)\n",
    "plt.show()"
   ]
  },
  {
   "cell_type": "code",
   "execution_count": 80,
   "metadata": {},
   "outputs": [],
   "source": [
    "import numpy\n",
    "import pandas\n",
    "import math\n",
    "from keras.models import Sequential\n",
    "from keras.layers import Dense\n",
    "from keras.layers import LSTM"
   ]
  },
  {
   "cell_type": "code",
   "execution_count": 81,
   "metadata": {
    "collapsed": true
   },
   "outputs": [],
   "source": [
    "import sklearn"
   ]
  },
  {
   "cell_type": "code",
   "execution_count": 82,
   "metadata": {
    "collapsed": true
   },
   "outputs": [],
   "source": [
    "from sklearn.preprocessing import MinMaxScaler"
   ]
  },
  {
   "cell_type": "code",
   "execution_count": 83,
   "metadata": {
    "collapsed": true
   },
   "outputs": [],
   "source": [
    "from sklearn.metrics import mean_squared_error"
   ]
  },
  {
   "cell_type": "code",
   "execution_count": 84,
   "metadata": {
    "collapsed": true
   },
   "outputs": [],
   "source": [
    "# for reproducability of the results let's fix the seed function\n",
    "numpy.random.seed(1234)"
   ]
  },
  {
   "cell_type": "code",
   "execution_count": 85,
   "metadata": {},
   "outputs": [
    {
     "data": {
      "text/html": [
       "<div>\n",
       "<table border=\"1\" class=\"dataframe\">\n",
       "  <thead>\n",
       "    <tr style=\"text-align: right;\">\n",
       "      <th></th>\n",
       "      <th>International airline passengers: monthly totals in thousands. Jan 49 ? Dec 60</th>\n",
       "    </tr>\n",
       "  </thead>\n",
       "  <tbody>\n",
       "    <tr>\n",
       "      <th>0</th>\n",
       "      <td>112</td>\n",
       "    </tr>\n",
       "    <tr>\n",
       "      <th>1</th>\n",
       "      <td>118</td>\n",
       "    </tr>\n",
       "    <tr>\n",
       "      <th>2</th>\n",
       "      <td>132</td>\n",
       "    </tr>\n",
       "    <tr>\n",
       "      <th>3</th>\n",
       "      <td>129</td>\n",
       "    </tr>\n",
       "    <tr>\n",
       "      <th>4</th>\n",
       "      <td>121</td>\n",
       "    </tr>\n",
       "  </tbody>\n",
       "</table>\n",
       "</div>"
      ],
      "text/plain": [
       "   International airline passengers: monthly totals in thousands. Jan 49 ? Dec 60\n",
       "0                                                112                             \n",
       "1                                                118                             \n",
       "2                                                132                             \n",
       "3                                                129                             \n",
       "4                                                121                             "
      ]
     },
     "execution_count": 85,
     "metadata": {},
     "output_type": "execute_result"
    }
   ],
   "source": [
    "dataset.head()"
   ]
  },
  {
   "cell_type": "code",
   "execution_count": 86,
   "metadata": {},
   "outputs": [],
   "source": [
    "dataset = dataset.values\n",
    "dataset = dataset.astype('float32')"
   ]
  },
  {
   "cell_type": "code",
   "execution_count": 87,
   "metadata": {
    "collapsed": true
   },
   "outputs": [],
   "source": [
    "# normaliza the dataset\n",
    "scaler = MinMaxScaler(feature_range=(0,1))\n",
    "dataset = scaler.fit_transform(dataset)"
   ]
  },
  {
   "cell_type": "code",
   "execution_count": 88,
   "metadata": {},
   "outputs": [
    {
     "data": {
      "text/plain": [
       "array([[ 0.01544401],\n",
       "       [ 0.02702703],\n",
       "       [ 0.05405405],\n",
       "       [ 0.04826255],\n",
       "       [ 0.03281853],\n",
       "       [ 0.05984557],\n",
       "       [ 0.08494207],\n",
       "       [ 0.08494207],\n",
       "       [ 0.06177607],\n",
       "       [ 0.02895753],\n",
       "       [ 0.        ],\n",
       "       [ 0.02702703],\n",
       "       [ 0.02123553],\n",
       "       [ 0.04247104],\n",
       "       [ 0.07142857],\n",
       "       [ 0.05984557],\n",
       "       [ 0.04054055],\n",
       "       [ 0.08687258],\n",
       "       [ 0.12741312],\n",
       "       [ 0.12741312],\n",
       "       [ 0.10424709],\n",
       "       [ 0.05598456],\n",
       "       [ 0.01930502],\n",
       "       [ 0.06949806],\n",
       "       [ 0.07915059],\n",
       "       [ 0.08880308],\n",
       "       [ 0.14285713],\n",
       "       [ 0.11389962],\n",
       "       [ 0.13127413],\n",
       "       [ 0.14285713],\n",
       "       [ 0.18339768],\n",
       "       [ 0.18339768],\n",
       "       [ 0.15444016],\n",
       "       [ 0.11196911],\n",
       "       [ 0.08108109],\n",
       "       [ 0.1196911 ],\n",
       "       [ 0.12934363],\n",
       "       [ 0.14671814],\n",
       "       [ 0.17181468],\n",
       "       [ 0.14864865],\n",
       "       [ 0.15250966],\n",
       "       [ 0.22007722],\n",
       "       [ 0.24324325],\n",
       "       [ 0.26640925],\n",
       "       [ 0.2027027 ],\n",
       "       [ 0.16795367],\n",
       "       [ 0.13127413],\n",
       "       [ 0.17374519],\n",
       "       [ 0.17760617],\n",
       "       [ 0.17760617],\n",
       "       [ 0.25482625],\n",
       "       [ 0.25289574],\n",
       "       [ 0.24131274],\n",
       "       [ 0.26833975],\n",
       "       [ 0.3088803 ],\n",
       "       [ 0.32432434],\n",
       "       [ 0.25675675],\n",
       "       [ 0.20656371],\n",
       "       [ 0.14671814],\n",
       "       [ 0.18725869],\n",
       "       [ 0.19305018],\n",
       "       [ 0.16216215],\n",
       "       [ 0.25289574],\n",
       "       [ 0.23745173],\n",
       "       [ 0.25096524],\n",
       "       [ 0.3088803 ],\n",
       "       [ 0.38223937],\n",
       "       [ 0.36486486],\n",
       "       [ 0.2992278 ],\n",
       "       [ 0.24131274],\n",
       "       [ 0.1911197 ],\n",
       "       [ 0.24131274],\n",
       "       [ 0.26640925],\n",
       "       [ 0.24903473],\n",
       "       [ 0.31467178],\n",
       "       [ 0.31853279],\n",
       "       [ 0.32046333],\n",
       "       [ 0.40733591],\n",
       "       [ 0.50193048],\n",
       "       [ 0.46911195],\n",
       "       [ 0.40154442],\n",
       "       [ 0.32818535],\n",
       "       [ 0.25675675],\n",
       "       [ 0.33590731],\n",
       "       [ 0.34749034],\n",
       "       [ 0.33397684],\n",
       "       [ 0.41119692],\n",
       "       [ 0.4034749 ],\n",
       "       [ 0.41312739],\n",
       "       [ 0.52123547],\n",
       "       [ 0.59652507],\n",
       "       [ 0.58108103],\n",
       "       [ 0.48455599],\n",
       "       [ 0.38996139],\n",
       "       [ 0.3223938 ],\n",
       "       [ 0.38996139],\n",
       "       [ 0.40733591],\n",
       "       [ 0.3803089 ],\n",
       "       [ 0.48648646],\n",
       "       [ 0.47104248],\n",
       "       [ 0.48455599],\n",
       "       [ 0.61389959],\n",
       "       [ 0.69691122],\n",
       "       [ 0.70077217],\n",
       "       [ 0.57915056],\n",
       "       [ 0.46911195],\n",
       "       [ 0.38803086],\n",
       "       [ 0.44787642],\n",
       "       [ 0.45559844],\n",
       "       [ 0.41312739],\n",
       "       [ 0.49806949],\n",
       "       [ 0.47104248],\n",
       "       [ 0.49999997],\n",
       "       [ 0.63899612],\n",
       "       [ 0.74710429],\n",
       "       [ 0.7741313 ],\n",
       "       [ 0.57915056],\n",
       "       [ 0.49227801],\n",
       "       [ 0.39768341],\n",
       "       [ 0.44980696],\n",
       "       [ 0.49420848],\n",
       "       [ 0.45945945],\n",
       "       [ 0.58301163],\n",
       "       [ 0.56370652],\n",
       "       [ 0.61003864],\n",
       "       [ 0.71042466],\n",
       "       [ 0.85714293],\n",
       "       [ 0.87837839],\n",
       "       [ 0.69305015],\n",
       "       [ 0.5849421 ],\n",
       "       [ 0.49806949],\n",
       "       [ 0.58108103],\n",
       "       [ 0.60424709],\n",
       "       [ 0.55405402],\n",
       "       [ 0.60810804],\n",
       "       [ 0.6891892 ],\n",
       "       [ 0.71042466],\n",
       "       [ 0.83204639],\n",
       "       [ 1.        ],\n",
       "       [ 0.96911204],\n",
       "       [ 0.77992272],\n",
       "       [ 0.6891892 ],\n",
       "       [ 0.55212355],\n",
       "       [ 0.63320458]], dtype=float32)"
      ]
     },
     "execution_count": 88,
     "metadata": {},
     "output_type": "execute_result"
    }
   ],
   "source": [
    "dataset"
   ]
  },
  {
   "cell_type": "code",
   "execution_count": 89,
   "metadata": {
    "collapsed": true
   },
   "outputs": [],
   "source": [
    "# split the dataset into train and test \n",
    "train_size = int(len(dataset)*0.67)"
   ]
  },
  {
   "cell_type": "code",
   "execution_count": 90,
   "metadata": {},
   "outputs": [
    {
     "name": "stdout",
     "output_type": "stream",
     "text": [
      "96\n"
     ]
    }
   ],
   "source": [
    "print train_size"
   ]
  },
  {
   "cell_type": "code",
   "execution_count": 91,
   "metadata": {
    "collapsed": true
   },
   "outputs": [],
   "source": [
    "test_size = len(dataset) - train_size"
   ]
  },
  {
   "cell_type": "code",
   "execution_count": 92,
   "metadata": {},
   "outputs": [
    {
     "name": "stdout",
     "output_type": "stream",
     "text": [
      "48\n"
     ]
    }
   ],
   "source": [
    "print test_size"
   ]
  },
  {
   "cell_type": "code",
   "execution_count": 93,
   "metadata": {},
   "outputs": [],
   "source": [
    "train,test = dataset[0:train_size,:],dataset[train_size:len(dataset),:]"
   ]
  },
  {
   "cell_type": "code",
   "execution_count": 94,
   "metadata": {},
   "outputs": [
    {
     "name": "stdout",
     "output_type": "stream",
     "text": [
      "(96, 48)\n"
     ]
    }
   ],
   "source": [
    "print (len(train), len(test))"
   ]
  },
  {
   "cell_type": "code",
   "execution_count": 95,
   "metadata": {},
   "outputs": [],
   "source": [
    "# create dataset matrix\n",
    "def create_dataset(dataset, look_back=1):\n",
    "    dataX, dataY = [], []\n",
    "    for i in range(len(dataset)-look_back-1):\n",
    "        a = dataset[i:(i+look_back),0]\n",
    "        dataX.append(a)\n",
    "        dataY.append(dataset[i+look_back,0])\n",
    "    return numpy.array(dataX),numpy.array(dataY)"
   ]
  },
  {
   "cell_type": "code",
   "execution_count": 96,
   "metadata": {
    "collapsed": true
   },
   "outputs": [],
   "source": [
    "#reshape the dataset X =current time, and Yt+1 =future time period\n",
    "look_back =1\n",
    "trainX, trainY = create_dataset(train,look_back)\n",
    "testX, testY = create_dataset(test,look_back)"
   ]
  },
  {
   "cell_type": "code",
   "execution_count": 97,
   "metadata": {
    "collapsed": true
   },
   "outputs": [],
   "source": [
    "trainX = numpy.reshape(trainX,(trainX.shape[0],1,trainX.shape[1]))\n",
    "testX = numpy.reshape(testX,(testX.shape[0],1,testX.shape[1]))"
   ]
  },
  {
   "cell_type": "code",
   "execution_count": 98,
   "metadata": {},
   "outputs": [
    {
     "name": "stdout",
     "output_type": "stream",
     "text": [
      "[[[ 0.40733591]]\n",
      "\n",
      " [[ 0.3803089 ]]\n",
      "\n",
      " [[ 0.48648646]]\n",
      "\n",
      " [[ 0.47104248]]\n",
      "\n",
      " [[ 0.48455599]]\n",
      "\n",
      " [[ 0.61389959]]\n",
      "\n",
      " [[ 0.69691122]]\n",
      "\n",
      " [[ 0.70077217]]\n",
      "\n",
      " [[ 0.57915056]]\n",
      "\n",
      " [[ 0.46911195]]\n",
      "\n",
      " [[ 0.38803086]]\n",
      "\n",
      " [[ 0.44787642]]\n",
      "\n",
      " [[ 0.45559844]]\n",
      "\n",
      " [[ 0.41312739]]\n",
      "\n",
      " [[ 0.49806949]]\n",
      "\n",
      " [[ 0.47104248]]\n",
      "\n",
      " [[ 0.49999997]]\n",
      "\n",
      " [[ 0.63899612]]\n",
      "\n",
      " [[ 0.74710429]]\n",
      "\n",
      " [[ 0.7741313 ]]\n",
      "\n",
      " [[ 0.57915056]]\n",
      "\n",
      " [[ 0.49227801]]\n",
      "\n",
      " [[ 0.39768341]]\n",
      "\n",
      " [[ 0.44980696]]\n",
      "\n",
      " [[ 0.49420848]]\n",
      "\n",
      " [[ 0.45945945]]\n",
      "\n",
      " [[ 0.58301163]]\n",
      "\n",
      " [[ 0.56370652]]\n",
      "\n",
      " [[ 0.61003864]]\n",
      "\n",
      " [[ 0.71042466]]\n",
      "\n",
      " [[ 0.85714293]]\n",
      "\n",
      " [[ 0.87837839]]\n",
      "\n",
      " [[ 0.69305015]]\n",
      "\n",
      " [[ 0.5849421 ]]\n",
      "\n",
      " [[ 0.49806949]]\n",
      "\n",
      " [[ 0.58108103]]\n",
      "\n",
      " [[ 0.60424709]]\n",
      "\n",
      " [[ 0.55405402]]\n",
      "\n",
      " [[ 0.60810804]]\n",
      "\n",
      " [[ 0.6891892 ]]\n",
      "\n",
      " [[ 0.71042466]]\n",
      "\n",
      " [[ 0.83204639]]\n",
      "\n",
      " [[ 1.        ]]\n",
      "\n",
      " [[ 0.96911204]]\n",
      "\n",
      " [[ 0.77992272]]\n",
      "\n",
      " [[ 0.6891892 ]]]\n"
     ]
    }
   ],
   "source": [
    "print testX"
   ]
  },
  {
   "cell_type": "code",
   "execution_count": 99,
   "metadata": {},
   "outputs": [
    {
     "name": "stdout",
     "output_type": "stream",
     "text": [
      "Epoch 1/10\n",
      "3s - loss: 0.0463\n",
      "Epoch 2/10\n",
      "3s - loss: 0.0252\n",
      "Epoch 3/10\n",
      "3s - loss: 0.0180\n",
      "Epoch 4/10\n",
      "3s - loss: 0.0161\n",
      "Epoch 5/10\n",
      "3s - loss: 0.0152\n",
      "Epoch 6/10\n",
      "3s - loss: 0.0144\n",
      "Epoch 7/10\n",
      "4s - loss: 0.0135\n",
      "Epoch 8/10\n",
      "3s - loss: 0.0122\n",
      "Epoch 9/10\n",
      "4s - loss: 0.0108\n",
      "Epoch 10/10\n",
      "3s - loss: 0.0093\n"
     ]
    },
    {
     "data": {
      "text/plain": [
       "<keras.callbacks.History at 0x130152b0>"
      ]
     },
     "execution_count": 99,
     "metadata": {},
     "output_type": "execute_result"
    }
   ],
   "source": [
    "# let's create  a RNN or LSTM model\n",
    "model = Sequential()\n",
    "model.add(LSTM(4,input_shape=(1,look_back)))\n",
    "model.add(Dense(1))\n",
    "model.compile(loss='mean_squared_error',optimizer='adam')\n",
    "\n",
    "# fit the model\n",
    "model.fit(trainX,trainY,batch_size=1,verbose=2)"
   ]
  },
  {
   "cell_type": "code",
   "execution_count": 100,
   "metadata": {
    "collapsed": true
   },
   "outputs": [],
   "source": [
    "# make predictions\n",
    "trainPredict = model.predict(trainX)\n",
    "testPredict = model.predict(testX)"
   ]
  },
  {
   "cell_type": "code",
   "execution_count": 101,
   "metadata": {},
   "outputs": [
    {
     "name": "stdout",
     "output_type": "stream",
     "text": [
      "[[ 0.15360416]\n",
      " [ 0.15739179]\n",
      " [ 0.16633824]\n",
      " [ 0.16440865]\n",
      " [ 0.15929623]\n",
      " [ 0.16827445]\n",
      " [ 0.1767391 ]\n",
      " [ 0.1767391 ]\n",
      " [ 0.16892132]\n",
      " [ 0.15802582]\n",
      " [ 0.14859922]\n",
      " [ 0.15739179]\n",
      " [ 0.15549439]\n",
      " [ 0.16248578]\n",
      " [ 0.17216642]\n",
      " [ 0.16827445]\n",
      " [ 0.16184634]\n",
      " [ 0.17739511]\n",
      " [ 0.19132157]\n",
      " [ 0.19132157]\n",
      " [ 0.18332903]\n",
      " [ 0.1669829 ]\n",
      " [ 0.15486351]\n",
      " [ 0.17151597]\n",
      " [ 0.17477524]\n",
      " [ 0.17805177]\n",
      " [ 0.19669823]\n",
      " [ 0.18664837]\n",
      " [ 0.19266221]\n",
      " [ 0.19669823]\n",
      " [ 0.21098007]\n",
      " [ 0.21098007]\n",
      " [ 0.20075473]\n",
      " [ 0.18598323]\n",
      " [ 0.17542918]\n",
      " [ 0.18864748]\n",
      " [ 0.1919916 ]\n",
      " [ 0.19804817]\n",
      " [ 0.20687602]\n",
      " [ 0.19872397]\n",
      " [ 0.20007727]\n",
      " [ 0.22408813]\n",
      " [ 0.23244569]\n",
      " [ 0.24085623]\n",
      " [ 0.21785879]\n",
      " [ 0.20551208]\n",
      " [ 0.19266221]\n",
      " [ 0.20755878]\n",
      " [ 0.20892578]\n",
      " [ 0.20892578]\n",
      " [ 0.23664476]\n",
      " [ 0.23594403]\n",
      " [ 0.23174712]\n",
      " [ 0.24155931]\n",
      " [ 0.25639129]\n",
      " [ 0.26207116]\n",
      " [ 0.23734584]\n",
      " [ 0.21924004]\n",
      " [ 0.19804817]\n",
      " [ 0.21235204]\n",
      " [ 0.21441357]\n",
      " [ 0.20347001]\n",
      " [ 0.23594403]\n",
      " [ 0.23035108]\n",
      " [ 0.23524365]\n",
      " [ 0.25639129]\n",
      " [ 0.2834745 ]\n",
      " [ 0.27703959]\n",
      " [ 0.25284904]\n",
      " [ 0.23174712]\n",
      " [ 0.21372592]\n",
      " [ 0.23174712]\n",
      " [ 0.24085623]\n",
      " [ 0.23454361]\n",
      " [ 0.25851953]\n",
      " [ 0.25993955]\n",
      " [ 0.26064986]\n",
      " [ 0.2927832 ]\n",
      " [ 0.32789627]\n",
      " [ 0.31572253]\n",
      " [ 0.29063392]\n",
      " [ 0.2634933 ]\n",
      " [ 0.23734584]\n",
      " [ 0.26633993]\n",
      " [ 0.27061546]\n",
      " [ 0.26562798]\n",
      " [ 0.29421633]\n",
      " [ 0.29135025]\n",
      " [ 0.29493296]\n",
      " [ 0.33504504]\n",
      " [ 0.3627806 ]\n",
      " [ 0.35711443]\n",
      " [ 0.32145393]\n",
      " [ 0.28633726]]\n"
     ]
    }
   ],
   "source": [
    "print trainPredict"
   ]
  },
  {
   "cell_type": "code",
   "execution_count": 102,
   "metadata": {},
   "outputs": [
    {
     "name": "stdout",
     "output_type": "stream",
     "text": [
      "[[ 0.2927832 ]\n",
      " [ 0.28275907]\n",
      " [ 0.32217008]\n",
      " [ 0.31643915]\n",
      " [ 0.32145393]\n",
      " [ 0.36913764]\n",
      " [ 0.39920825]\n",
      " [ 0.40059304]\n",
      " [ 0.35640526]\n",
      " [ 0.31572253]\n",
      " [ 0.2856214 ]\n",
      " [ 0.30783731]\n",
      " [ 0.31070507]\n",
      " [ 0.29493296]\n",
      " [ 0.32646525]\n",
      " [ 0.31643915]\n",
      " [ 0.3271808 ]\n",
      " [ 0.37828445]\n",
      " [ 0.41710269]\n",
      " [ 0.42663521]\n",
      " [ 0.35640526]\n",
      " [ 0.32431805]\n",
      " [ 0.28920138]\n",
      " [ 0.30855429]\n",
      " [ 0.32503384]\n",
      " [ 0.3121388 ]\n",
      " [ 0.35782349]\n",
      " [ 0.35072434]\n",
      " [ 0.36772668]\n",
      " [ 0.40404922]\n",
      " [ 0.45541704]\n",
      " [ 0.46265185]\n",
      " [ 0.39782208]\n",
      " [ 0.35853231]\n",
      " [ 0.32646525]\n",
      " [ 0.35711443]\n",
      " [ 0.36560833]\n",
      " [ 0.3471677 ]\n",
      " [ 0.36702076]\n",
      " [ 0.39643461]\n",
      " [ 0.40404922]\n",
      " [ 0.44679797]\n",
      " [ 0.50300825]\n",
      " [ 0.49293768]\n",
      " [ 0.4286679 ]\n",
      " [ 0.39643461]]\n"
     ]
    }
   ],
   "source": [
    "print testPredict"
   ]
  },
  {
   "cell_type": "code",
   "execution_count": 103,
   "metadata": {},
   "outputs": [],
   "source": [
    "# reverse the predicted values to thee actual time series values using inverse tranform function\n",
    "trainPredict = scaler.inverse_transform(trainPredict) \n",
    "testPredict = scaler.inverse_transform(testPredict)\n",
    "\n",
    "trainY = scaler.inverse_transform([trainY])\n",
    "testY = scaler.inverse_transform([testY])"
   ]
  },
  {
   "cell_type": "code",
   "execution_count": 104,
   "metadata": {},
   "outputs": [
    {
     "name": "stdout",
     "output_type": "stream",
     "text": [
      "[[ 183.56697083]\n",
      " [ 185.52894592]\n",
      " [ 190.16320801]\n",
      " [ 189.16368103]\n",
      " [ 186.51545715]\n",
      " [ 191.16615295]\n",
      " [ 195.55085754]\n",
      " [ 195.55085754]\n",
      " [ 191.50125122]\n",
      " [ 185.8573761 ]\n",
      " [ 180.97441101]\n",
      " [ 185.52894592]\n",
      " [ 184.5460968 ]\n",
      " [ 188.16763306]\n",
      " [ 193.18222046]\n",
      " [ 191.16615295]\n",
      " [ 187.83641052]\n",
      " [ 195.89067078]\n",
      " [ 203.10458374]\n",
      " [ 203.10458374]\n",
      " [ 198.96443176]\n",
      " [ 190.49714661]\n",
      " [ 184.21929932]\n",
      " [ 192.84527588]\n",
      " [ 194.53358459]\n",
      " [ 196.2308197 ]\n",
      " [ 205.88967896]\n",
      " [ 200.68385315]\n",
      " [ 203.79902649]\n",
      " [ 205.88967896]\n",
      " [ 213.28768921]\n",
      " [ 213.28768921]\n",
      " [ 207.99095154]\n",
      " [ 200.33930969]\n",
      " [ 194.87232971]\n",
      " [ 201.71939087]\n",
      " [ 203.4516449 ]\n",
      " [ 206.58895874]\n",
      " [ 211.16177368]\n",
      " [ 206.93902588]\n",
      " [ 207.64002991]\n",
      " [ 220.07765198]\n",
      " [ 224.40686035]\n",
      " [ 228.76353455]\n",
      " [ 216.8508606 ]\n",
      " [ 210.45526123]\n",
      " [ 203.79902649]\n",
      " [ 211.51545715]\n",
      " [ 212.22355652]\n",
      " [ 212.22355652]\n",
      " [ 226.58200073]\n",
      " [ 226.2190094 ]\n",
      " [ 224.04501343]\n",
      " [ 229.12771606]\n",
      " [ 236.8106842 ]\n",
      " [ 239.75286865]\n",
      " [ 226.94514465]\n",
      " [ 217.56634521]\n",
      " [ 206.58895874]\n",
      " [ 213.99835205]\n",
      " [ 215.06622314]\n",
      " [ 209.3974762 ]\n",
      " [ 226.2190094 ]\n",
      " [ 223.32185364]\n",
      " [ 225.85621643]\n",
      " [ 236.8106842 ]\n",
      " [ 250.83979797]\n",
      " [ 247.5065155 ]\n",
      " [ 234.97579956]\n",
      " [ 224.04501343]\n",
      " [ 214.71003723]\n",
      " [ 224.04501343]\n",
      " [ 228.76353455]\n",
      " [ 225.49357605]\n",
      " [ 237.91311646]\n",
      " [ 238.6486969 ]\n",
      " [ 239.01663208]\n",
      " [ 255.66169739]\n",
      " [ 273.85028076]\n",
      " [ 267.54428101]\n",
      " [ 254.54837036]\n",
      " [ 240.48953247]\n",
      " [ 226.94514465]\n",
      " [ 241.96408081]\n",
      " [ 244.17880249]\n",
      " [ 241.59529114]\n",
      " [ 256.40405273]\n",
      " [ 254.91943359]\n",
      " [ 256.77526855]\n",
      " [ 277.55334473]\n",
      " [ 291.92034912]\n",
      " [ 288.98526001]\n",
      " [ 270.51312256]\n",
      " [ 252.32270813]] [[ 117.99999916  131.99999879  129.00000163  120.99999632  135.00000368\n",
      "   147.99999397  147.99999397  136.00000531  119.00000078  103.99999952\n",
      "   117.99999916  115.00000199  125.99999674  140.99999801  135.00000368\n",
      "   125.00000283  148.9999956   169.99999891  169.99999891  157.99999481\n",
      "   133.00000042  114.00000036  139.99999638  145.00000452  149.99999723\n",
      "   177.9999965   163.00000295  172.00000217  177.9999965   198.99999982\n",
      "   198.99999982  184.00000627  162.00000133  146.00000615  165.9999924\n",
      "   171.00000054  179.99999976  193.00000549  181.00000139  183.00000464\n",
      "   217.99999988  230.00000398  241.99999264  209.00000066  191.00000223\n",
      "   172.00000217  194.00000712  195.99999493  195.99999493  235.99999831\n",
      "   234.99999668  229.00000235  242.99999427  263.99999759  272.00001061\n",
      "   236.99999994  211.00000392  179.99999976  201.00000308  203.99999252\n",
      "   187.99999735  234.99999668  226.9999991   233.99999506  263.99999759\n",
      "   301.99999771  292.99999849  259.00000488  229.00000235  203.00000633\n",
      "   229.00000235  241.99999264  232.99999343  266.99998703  268.99999029\n",
      "   270.00000736  315.00000344  363.99999059  346.99999379  312.00001399\n",
      "   274.00001387  236.99999994  277.99998951  283.99999928  277.00000332\n",
      "   317.00000669  313.00000018  317.99999288  373.999976    412.99999319\n",
      "   404.99998016  355.00000681  306.00000422  270.99999355]]\n"
     ]
    }
   ],
   "source": [
    "print trainPredict, trainY"
   ]
  },
  {
   "cell_type": "code",
   "execution_count": 105,
   "metadata": {},
   "outputs": [
    {
     "name": "stdout",
     "output_type": "stream",
     "text": [
      "[[ 255.66169739]\n",
      " [ 250.46920776]\n",
      " [ 270.88412476]\n",
      " [ 267.91546631]\n",
      " [ 270.51312256]\n",
      " [ 295.21328735]\n",
      " [ 310.78988647]\n",
      " [ 311.50717163]\n",
      " [ 288.61791992]\n",
      " [ 267.54428101]\n",
      " [ 251.95188904]\n",
      " [ 263.45974731]\n",
      " [ 264.94522095]\n",
      " [ 256.77526855]\n",
      " [ 273.10897827]\n",
      " [ 267.91546631]\n",
      " [ 273.47967529]\n",
      " [ 299.95132446]\n",
      " [ 320.05917358]\n",
      " [ 324.99707031]\n",
      " [ 288.61791992]\n",
      " [ 271.99673462]\n",
      " [ 253.80632019]\n",
      " [ 263.83111572]\n",
      " [ 272.36755371]\n",
      " [ 265.68789673]\n",
      " [ 289.35256958]\n",
      " [ 285.67520142]\n",
      " [ 294.48242188]\n",
      " [ 313.29751587]\n",
      " [ 339.90600586]\n",
      " [ 343.65365601]\n",
      " [ 310.0718689 ]\n",
      " [ 289.71972656]\n",
      " [ 273.10897827]\n",
      " [ 288.98526001]\n",
      " [ 293.38510132]\n",
      " [ 283.83288574]\n",
      " [ 294.11676025]\n",
      " [ 309.35314941]\n",
      " [ 313.29751587]\n",
      " [ 335.44134521]\n",
      " [ 364.55825806]\n",
      " [ 359.34170532]\n",
      " [ 326.04995728]\n",
      " [ 309.35314941]] [[ 301.00001152  355.999993    348.00001085  355.00000681  421.9999924\n",
      "   465.0000161   466.99998848  403.99999397  346.99999379  304.99998716\n",
      "   335.99999132  339.99999783  317.99999288  362.00000277  348.00001085\n",
      "   362.99998896  434.99999813  491.00002756  505.00001948  403.99999397\n",
      "   359.00001333  310.00001073  337.00000838  359.99999952  342.00000109\n",
      "   406.0000281   395.99998094  420.00002002  471.99998119  548.00004318\n",
      "   559.00001477  462.99998197  407.00001429  362.00000277  404.99998016\n",
      "   416.9999997   390.99998824  418.99997208  461.00000959  471.99998119\n",
      "   535.00003745  622.00000929  606.00004499  507.99997805  461.00000959\n",
      "   390.00000205]]\n"
     ]
    }
   ],
   "source": [
    "print testPredict, testY"
   ]
  },
  {
   "cell_type": "code",
   "execution_count": 106,
   "metadata": {},
   "outputs": [
    {
     "name": "stdout",
     "output_type": "stream",
     "text": [
      "Train Score: 47.59 RMSE\n"
     ]
    }
   ],
   "source": [
    "# calculate the RMSE root mean square error\n",
    "trainScore = math.sqrt(mean_squared_error(trainY[0],trainPredict[:,0]))\n",
    "print ('Train Score: %.2f RMSE' % (trainScore))"
   ]
  },
  {
   "cell_type": "code",
   "execution_count": 107,
   "metadata": {},
   "outputs": [
    {
     "name": "stdout",
     "output_type": "stream",
     "text": [
      "Test Score: 136.17 RMSE\n"
     ]
    }
   ],
   "source": [
    "testScore = math.sqrt(mean_squared_error(testY[0],testPredict[:,0]))\n",
    "print ('Test Score: %.2f RMSE' % (testScore))"
   ]
  },
  {
   "cell_type": "code",
   "execution_count": null,
   "metadata": {
    "collapsed": true
   },
   "outputs": [],
   "source": [
    "# LSTM for international airline passengers problem with window regression framing\n",
    "import numpy\n",
    "import matplotlib.pyplot as plt\n",
    "from pandas import read_csv\n",
    "import math\n",
    "from keras.models import Sequential\n",
    "from keras.layers import Dense\n",
    "from keras.layers import LSTM\n",
    "from sklearn.preprocessing import MinMaxScaler\n",
    "from sklearn.metrics import mean_squared_error\n",
    "# convert an array of values into a dataset matrix\n",
    "def create_dataset(dataset, look_back=1):\n",
    "\tdataX, dataY = [], []\n",
    "\tfor i in range(len(dataset)-look_back-1):\n",
    "\t\ta = dataset[i:(i+look_back), 0]\n",
    "\t\tdataX.append(a)\n",
    "\t\tdataY.append(dataset[i + look_back, 0])\n",
    "\treturn numpy.array(dataX), numpy.array(dataY)\n",
    "# fix random seed for reproducibility\n",
    "numpy.random.seed(7)\n",
    "# load the dataset\n",
    "dataframe = read_csv('C:/Users/Dell/Downloads/international-airline-passengers.csv', usecols=[1], engine='python', skipfooter=3)\n",
    "dataset = dataframe.values\n",
    "dataset = dataset.astype('float32')\n",
    "# normalize the dataset\n",
    "scaler = MinMaxScaler(feature_range=(0, 1))\n",
    "dataset = scaler.fit_transform(dataset)\n",
    "# split into train and test sets\n",
    "train_size = int(len(dataset) * 0.67)\n",
    "test_size = len(dataset) - train_size\n",
    "train, test = dataset[0:train_size,:], dataset[train_size:len(dataset),:]\n",
    "# reshape into X=t and Y=t+1\n",
    "look_back = 3\n",
    "trainX, trainY = create_dataset(train, look_back)\n",
    "testX, testY = create_dataset(test, look_back)\n",
    "# reshape input to be [samples, time steps, features]\n",
    "trainX = numpy.reshape(trainX, (trainX.shape[0], 1, trainX.shape[1]))\n",
    "testX = numpy.reshape(testX, (testX.shape[0], 1, testX.shape[1]))\n",
    "# create and fit the LSTM network\n",
    "model = Sequential()\n",
    "model.add(LSTM(4, input_shape=(1, look_back)))\n",
    "model.add(Dense(1))\n",
    "model.compile(loss='mean_squared_error', optimizer='adam')\n",
    "model.fit(trainX, trainY, batch_size=1, verbose=2)\n",
    "# make predictions\n",
    "trainPredict = model.predict(trainX)\n",
    "testPredict = model.predict(testX)\n",
    "# invert predictions\n",
    "trainPredict = scaler.inverse_transform(trainPredict)\n",
    "trainY = scaler.inverse_transform([trainY])\n",
    "testPredict = scaler.inverse_transform(testPredict)\n",
    "testY = scaler.inverse_transform([testY])\n",
    "# calculate root mean squared error\n",
    "trainScore = math.sqrt(mean_squared_error(trainY[0], trainPredict[:,0]))\n",
    "print('Train Score: %.2f RMSE' % (trainScore))\n",
    "testScore = math.sqrt(mean_squared_error(testY[0], testPredict[:,0]))\n",
    "print('Test Score: %.2f RMSE' % (testScore))\n",
    "# shift train predictions for plotting\n",
    "trainPredictPlot = numpy.empty_like(dataset)\n",
    "trainPredictPlot[:, :] = numpy.nan\n",
    "trainPredictPlot[look_back:len(trainPredict)+look_back, :] = trainPredict\n",
    "# shift test predictions for plotting\n",
    "testPredictPlot = numpy.empty_like(dataset)\n",
    "testPredictPlot[:, :] = numpy.nan\n",
    "testPredictPlot[len(trainPredict)+(look_back*2)+1:len(dataset)-1, :] = testPredict\n",
    "# plot baseline and predictions\n",
    "plt.plot(scaler.inverse_transform(dataset))\n",
    "plt.plot(trainPredictPlot)\n",
    "plt.plot(testPredictPlot)\n",
    "plt.show()"
   ]
  },
  {
   "cell_type": "code",
   "execution_count": null,
   "metadata": {
    "collapsed": true
   },
   "outputs": [],
   "source": []
  }
 ],
 "metadata": {
  "anaconda-cloud": {},
  "kernelspec": {
   "display_name": "Python [conda env:Anaconda3]",
   "language": "python",
   "name": "conda-env-Anaconda3-py"
  },
  "language_info": {
   "codemirror_mode": {
    "name": "ipython",
    "version": 3
   },
   "file_extension": ".py",
   "mimetype": "text/x-python",
   "name": "python",
   "nbconvert_exporter": "python",
   "pygments_lexer": "ipython3",
   "version": "3.5.3"
  }
 },
 "nbformat": 4,
 "nbformat_minor": 1
}
